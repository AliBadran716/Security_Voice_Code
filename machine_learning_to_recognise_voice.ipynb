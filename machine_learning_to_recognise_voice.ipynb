{
 "cells": [
  {
   "cell_type": "code",
   "execution_count": 220,
   "id": "initial_id",
   "metadata": {
    "collapsed": true,
    "ExecuteTime": {
     "end_time": "2024-01-03T02:27:45.139424300Z",
     "start_time": "2024-01-03T02:27:45.132427600Z"
    }
   },
   "outputs": [],
   "source": [
    "import os\n",
    "import numpy as np\n",
    "import pandas as pd\n",
    "from sklearn.model_selection import train_test_split\n",
    "from sklearn.preprocessing import StandardScaler\n",
    "from sklearn.svm import SVC\n",
    "from sklearn.metrics import accuracy_score\n",
    "import librosa\n",
    "from sklearn.model_selection import train_test_split\n",
    "from sklearn.svm import SVC\n",
    "from sklearn.metrics import accuracy_score, classification_report"
   ]
  },
  {
   "cell_type": "code",
   "execution_count": 221,
   "outputs": [],
   "source": [
    "def extract_mfccs(file_path):\n",
    "    y, sr = librosa.load(file_path)\n",
    "    mfccs = librosa.feature.mfcc(y=y, sr=sr)\n",
    "    mfccs = mfccs.T\n",
    "    delta_mfccs = librosa.feature.delta(mfccs)\n",
    "    delta_mfccs = delta_mfccs\n",
    "    \n",
    "    #(216) rows = frames ,  and (26) columns = features\n",
    "    features = np.hstack([mfccs, delta_mfccs])\n",
    "    feature_names = [f\"MFCC_{i+1}\" for i in range(features.shape[1])]\n",
    "    return pd.DataFrame(features, columns=feature_names)\n"
   ],
   "metadata": {
    "collapsed": false,
    "ExecuteTime": {
     "end_time": "2024-01-03T02:27:45.174577500Z",
     "start_time": "2024-01-03T02:27:45.144427900Z"
    }
   },
   "id": "c01476d2d0c39c8"
  },
  {
   "cell_type": "code",
   "execution_count": 222,
   "outputs": [],
   "source": [
    "def extract_pitch(file_path):\n",
    "    y, sr = librosa.load(file_path)\n",
    "    pitches, magnitudes = librosa.core.piptrack(y=y, sr=sr)\n",
    "    pitch = np.mean(pitches[magnitudes > np.max(magnitudes) * 0.85])\n",
    "    return pd.DataFrame({\"Pitch\": [pitch]})"
   ],
   "metadata": {
    "collapsed": false,
    "ExecuteTime": {
     "end_time": "2024-01-03T02:27:45.175578500Z",
     "start_time": "2024-01-03T02:27:45.151935500Z"
    }
   },
   "id": "e6d0d2cc5bd13977"
  },
  {
   "cell_type": "code",
   "execution_count": 223,
   "outputs": [],
   "source": [
    "def extract_chroma(file_path):\n",
    "    y, sr = librosa.load(file_path)\n",
    "    chroma = librosa.feature.chroma_stft(y=y, sr=sr)\n",
    "    chroma = chroma.T\n",
    "    feature_names = [f\"Chroma_{i+1}\" for i in range(chroma.shape[1])]\n",
    "    return pd.DataFrame(chroma, columns=feature_names)"
   ],
   "metadata": {
    "collapsed": false,
    "ExecuteTime": {
     "end_time": "2024-01-03T02:27:45.175578500Z",
     "start_time": "2024-01-03T02:27:45.158080100Z"
    }
   },
   "id": "8cf1083d8ba507ce"
  },
  {
   "cell_type": "code",
   "execution_count": 224,
   "outputs": [],
   "source": [
    "def extract_zero_crossings(file_path):\n",
    "    y, sr = librosa.load(file_path)\n",
    "    zero_crossings = librosa.feature.zero_crossing_rate(y)\n",
    "    zero_crossings = zero_crossings.T\n",
    "    feature_names = [f\"ZeroCrossings_{i+1}\" for i in range(zero_crossings.shape[1])]\n",
    "    return pd.DataFrame(zero_crossings, columns=feature_names)"
   ],
   "metadata": {
    "collapsed": false,
    "ExecuteTime": {
     "end_time": "2024-01-03T02:27:45.193909800Z",
     "start_time": "2024-01-03T02:27:45.180910300Z"
    }
   },
   "id": "9bbce45c9fa59891"
  },
  {
   "cell_type": "code",
   "execution_count": 225,
   "outputs": [],
   "source": [
    "def extract_spectral_contrast(file_path):\n",
    "    y, sr = librosa.load(file_path)\n",
    "    spectral_contrast = librosa.feature.spectral_contrast(y=y, sr=sr)\n",
    "    spectral_contrast = spectral_contrast.T \n",
    "    feature_names = [f\"SpectralContrast_{i+1}\" for i in range(spectral_contrast.shape[1])]\n",
    "    return pd.DataFrame(spectral_contrast, columns=feature_names)"
   ],
   "metadata": {
    "collapsed": false,
    "ExecuteTime": {
     "end_time": "2024-01-03T02:27:45.208898800Z",
     "start_time": "2024-01-03T02:27:45.196909800Z"
    }
   },
   "id": "6fd08dc1bc04c8ea"
  },
  {
   "cell_type": "code",
   "execution_count": 226,
   "outputs": [],
   "source": [
    "def process_user_folder(folder_path):\n",
    "    mfccs_list = []\n",
    "    pitch_list = []\n",
    "    chroma_list = []\n",
    "    zero_crossings_list = []\n",
    "    spectral_contrast_list = []\n",
    "    flag = 1\n",
    "\n",
    "    # Iterate over all .wav files in the folder\n",
    "    for file_name in os.listdir(folder_path):\n",
    "        if file_name.endswith(\".wav\"):\n",
    "            file_path = os.path.join(folder_path, file_name)\n",
    "            if flag:\n",
    "                mfccs_list = extract_mfccs(file_path)\n",
    "                pitch = extract_pitch \n",
    "                pitch_list.append(pitch)\n",
    "                chroma_list = extract_chroma(file_path)\n",
    "                zero_crossings_list = extract_zero_crossings(file_path)\n",
    "                spectral_contrast_list = extract_spectral_contrast(file_path)\n",
    "\n",
    "                flag = 0\n",
    "            else:\n",
    "                # Extract features for each file\n",
    "                mfccs = extract_mfccs(file_path)\n",
    "                pitch = extract_pitch(file_path)\n",
    "                chroma = extract_chroma(file_path)\n",
    "                zero_crossings = extract_zero_crossings(file_path)\n",
    "                spectral_contrast = extract_spectral_contrast(file_path)\n",
    "                # Append features to the lists\n",
    "                mfccs_list = pd.concat([mfccs,mfccs_list]) \n",
    "                chroma_list = pd.concat([chroma, chroma_list])\n",
    "                zero_crossings_list = pd.concat([zero_crossings, zero_crossings_list])\n",
    "                spectral_contrast_list = pd.concat([spectral_contrast, spectral_contrast_list])\n",
    "                pitch_list.append(pitch)\n",
    "\n",
    "\n",
    "    # Create feature matrix with separate columns for each feature type\n",
    "    #Data set without the pitch\n",
    "    compined_features = pd.concat([mfccs_list, chroma_list, zero_crossings_list, spectral_contrast_list], axis=1)\n",
    "\n",
    "    return compined_features"
   ],
   "metadata": {
    "collapsed": false,
    "ExecuteTime": {
     "end_time": "2024-01-03T02:27:45.227904Z",
     "start_time": "2024-01-03T02:27:45.205902800Z"
    }
   },
   "id": "96ee10899d914629"
  },
  {
   "cell_type": "code",
   "execution_count": 242,
   "outputs": [
    {
     "name": "stdout",
     "output_type": "stream",
     "text": [
      "abdulla_ahmed\n",
      "ahmed_ali\n",
      "ashf\n",
      "atef\n",
      "bedro\n",
      "grant_me_access\n",
      "hassan\n",
      "hazem_rafaat\n",
      "muhannad\n",
      "open_middle_door\n",
      "unlock_the_gate\n",
      "Voices\n"
     ]
    }
   ],
   "source": [
    "# Specify the path of the main folder\n",
    "main_folder_path = \"voices\"\n",
    "\n",
    "# Get a list of all subfolders inside the main folder\n",
    "subfolders = [f.path for f in os.scandir(main_folder_path) if f.is_dir()]\n",
    "# create a list of two train datas one for voice recognition (ahmed_ali, bedro, hassan, muhannad) and the other for speech recognition (grant_me_access,unlock_the_gate,open_middle_door)\n",
    "data_voice_recognition_features = {\n",
    "    \"ahmed_ali\": [],\n",
    "    \"bedro\": [],\n",
    "    \"hassan\": [],\n",
    "    \"muhannad\": []\n",
    "\n",
    "}\n",
    "data_speech_recognition_features = {\n",
    "    \"grant_me_access\": [],\n",
    "    \"open_middle_door\": [],\n",
    "    \"unlock_the_gate\": []\n",
    "}\n",
    "\n",
    "# Loop over each subfolder\n",
    "for subfolder_path , i in zip(subfolders , range(len(subfolders))) :\n",
    "    # Extract the name of the subfolder\n",
    "    subfolder_name = os.path.basename(subfolder_path)\n",
    "    print(subfolder_name)\n",
    "    \n",
    "    # Create a variable with the features of the subfolder\n",
    "    features = process_user_folder(subfolder_path)\n",
    "\n",
    "    # Assign the variable name based on the subfolder name\n",
    "    globals()[subfolder_name] = features\n",
    "    if subfolder_name == \"ahmed_ali\" or subfolder_name == \"bedro\" or subfolder_name == \"hassan\" or subfolder_name == \"muhannad\" or subfolder_name == \"abdullah_ahmed\" or subfolder_name == \"ashf\" or subfolder_name == \"atef\" or subfolder_name == \"hazem_rafaat\":\n",
    "        data_voice_recognition_features[subfolder_name] = features\n",
    "    else:\n",
    "        data_speech_recognition_features[subfolder_name] = features"
   ],
   "metadata": {
    "collapsed": false,
    "ExecuteTime": {
     "end_time": "2024-01-03T03:03:22.286669900Z",
     "start_time": "2024-01-03T03:03:04.466565400Z"
    }
   },
   "id": "9dc41ef27254ba4e"
  },
  {
   "cell_type": "code",
   "execution_count": 244,
   "outputs": [],
   "source": [
    "# Combine all the extracted features into a single DataFrame\n",
    "all_features_speech = pd.concat([data_speech_recognition_features[\"grant_me_access\"], data_speech_recognition_features[\"open_middle_door\"], data_speech_recognition_features[\"unlock_the_gate\"]])\n",
    "# Create labels for the features based on the subfolder names\n",
    "labels = [\"grant_me_access\"] * data_speech_recognition_features[\"grant_me_access\"].shape[0] + [\"open_middle_door\"] * data_speech_recognition_features[\"open_middle_door\"].shape[0] + [\"unlock_the_gate\"] * data_speech_recognition_features[\"unlock_the_gate\"].shape[0]\n",
    "\n",
    "# Split the data into training and testing sets\n",
    "X_train, X_test, y_train, y_test = train_test_split(all_features_speech, labels, test_size=0.2, random_state=42)\n",
    "\n"
   ],
   "metadata": {
    "collapsed": false,
    "ExecuteTime": {
     "end_time": "2024-01-03T03:03:57.415286600Z",
     "start_time": "2024-01-03T03:03:57.372689Z"
    }
   },
   "id": "244fd546e051e9a0"
  },
  {
   "cell_type": "code",
   "execution_count": null,
   "outputs": [],
   "source": [
    "# Initialize the SVM model\n",
    "svm_model_speech = SVC(kernel='linear')\n",
    "\n",
    "# Train the SVM model\n",
    "svm_model_speech.fit(X_train, y_train)\n",
    "\n"
   ],
   "metadata": {
    "collapsed": false,
    "is_executing": true,
    "ExecuteTime": {
     "start_time": "2024-01-03T03:04:27.218673500Z"
    }
   },
   "id": "e688b3c443883b09"
  },
  {
   "cell_type": "code",
   "execution_count": 235,
   "outputs": [],
   "source": [
    "# Make predictions on the test set\n",
    "predictions = svm_model_speech.predict(X_test)\n",
    "\n"
   ],
   "metadata": {
    "collapsed": false,
    "ExecuteTime": {
     "end_time": "2024-01-03T02:47:02.071408700Z",
     "start_time": "2024-01-03T02:47:01.774340100Z"
    }
   },
   "id": "6ec850ae514a4d80"
  },
  {
   "cell_type": "code",
   "execution_count": null,
   "outputs": [],
   "source": [
    "from sklearn.model_selection import GridSearchCV\n",
    "param_grid = {'C': [0.1, 1, 10, 100], 'gamma': [0.01, 0.1, 1, 10]}\n",
    "grid_search = GridSearchCV(SVC(), param_grid, cv=5)\n",
    "grid_search.fit(X_train, y_train)\n",
    "\n",
    "best_params = grid_search.bestparams\n",
    "best_svm_model = grid_search.bestestimator\n"
   ],
   "metadata": {
    "collapsed": false,
    "is_executing": true
   },
   "id": "888a328f89537468"
  },
  {
   "cell_type": "code",
   "execution_count": null,
   "outputs": [],
   "source": [
    "from sklearn import metrics\n",
    "\n",
    "y_pred = best_svm_model.predict(X_test)\n",
    "accuracy = metrics.accuracy_score(y_test, y_pred)\n",
    "precision = metrics.precision_score(y_test, y_pred, average='weighted')\n",
    "recall = metrics.recall_score(y_test, y_pred, average='weighted')\n",
    "f1_score = metrics.f1_score(y_test, y_pred, average='weighted')\n",
    "\n",
    "print(f\"Best Parameters: {best_params}\")\n",
    "print(f\"Accuracy: {accuracy}\")\n",
    "print(f\"Precision: {precision}\")\n",
    "print(f\"Recall: {recall}\")\n",
    "print(f\"F1 Score: {f1_score}\")"
   ],
   "metadata": {
    "collapsed": false
   },
   "id": "d41da020940dd552"
  },
  {
   "cell_type": "code",
   "execution_count": 236,
   "outputs": [
    {
     "name": "stdout",
     "output_type": "stream",
     "text": [
      "Accuracy: 0.6455566905005107\n",
      "Classification Report:\n",
      "               precision    recall  f1-score   support\n",
      "\n",
      "   ahmed_ali       0.64      0.67      0.65       482\n",
      "       bedro       0.69      0.67      0.68       526\n",
      "      hassan       0.60      0.64      0.62       571\n",
      "    muhannad       0.67      0.59      0.63       379\n",
      "\n",
      "    accuracy                           0.65      1958\n",
      "   macro avg       0.65      0.64      0.65      1958\n",
      "weighted avg       0.65      0.65      0.65      1958\n"
     ]
    }
   ],
   "source": [
    "# Evaluate the performance of the model\n",
    "accuracy = accuracy_score(y_test, predictions)\n",
    "classification_rep = classification_report(y_test, predictions)\n",
    "\n",
    "# Print the results\n",
    "print(\"Accuracy:\", accuracy)\n",
    "print(\"Classification Report:\\n\", classification_rep)"
   ],
   "metadata": {
    "collapsed": false,
    "ExecuteTime": {
     "end_time": "2024-01-03T02:47:04.676186800Z",
     "start_time": "2024-01-03T02:47:04.642998Z"
    }
   },
   "id": "fbce070266f27397"
  },
  {
   "cell_type": "code",
   "execution_count": 237,
   "outputs": [],
   "source": [
    "# do the same for voice recognition\n",
    "# Combine all the extracted features into a single DataFrame\n",
    "all_features = pd.concat([data_voice_recognition_features[\"ahmed_ali\"], data_voice_recognition_features[\"bedro\"], data_voice_recognition_features[\"hassan\"], data_voice_recognition_features[\"muhannad\"], data_voice_recognition_features[\"abdullah_ahmed\"], data_voice_recognition_features[\"ashf\"], data_voice_recognition_features[\"atef\"], data_voice_recognition_features[\"hazem_rafaat\"]])\n",
    "# Create labels for the features based on the subfolder names\n",
    "labels = [\"ahmed_ali\"] * data_voice_recognition_features[\"ahmed_ali\"].shape[0] + [\"bedro\"] * data_voice_recognition_features[\"bedro\"].shape[0] + [\"hassan\"] * data_voice_recognition_features[\"hassan\"].shape[0] + [\"muhannad\"] * data_voice_recognition_features[\"muhannad\"].shape[0] + [\"abdullah_ahmed\"] * data_voice_recognition_features[\"abdullah_ahmed\"].shape[0] + [\"ashf\"] * data_voice_recognition_features[\"ashf\"].shape[0] + [\"atef\"] * data_voice_recognition_features[\"atef\"].shape[0] + [\"hazem_rafaat\"] * data_voice_recognition_features[\"hazem_rafaat\"].shape[0]\n",
    "\n",
    "# Split the data into training and testing sets\n",
    "X_train, X_test, y_train, y_test = train_test_split(all_features, labels, test_size=0.2, random_state=42)"
   ],
   "metadata": {
    "collapsed": false,
    "ExecuteTime": {
     "end_time": "2024-01-03T02:49:20.007131600Z",
     "start_time": "2024-01-03T02:49:19.994704100Z"
    }
   },
   "id": "d66834a6d90538c5"
  },
  {
   "cell_type": "code",
   "execution_count": 238,
   "outputs": [],
   "source": [
    "# Initialize the SVM model\n",
    "svm_model_voice = SVC(kernel='linear')\n"
   ],
   "metadata": {
    "collapsed": false,
    "ExecuteTime": {
     "end_time": "2024-01-03T02:49:22.339927500Z",
     "start_time": "2024-01-03T02:49:22.328924400Z"
    }
   },
   "id": "4925569729d17462"
  },
  {
   "cell_type": "code",
   "execution_count": 239,
   "outputs": [
    {
     "data": {
      "text/plain": "SVC(kernel='linear')",
      "text/html": "<style>#sk-container-id-3 {color: black;}#sk-container-id-3 pre{padding: 0;}#sk-container-id-3 div.sk-toggleable {background-color: white;}#sk-container-id-3 label.sk-toggleable__label {cursor: pointer;display: block;width: 100%;margin-bottom: 0;padding: 0.3em;box-sizing: border-box;text-align: center;}#sk-container-id-3 label.sk-toggleable__label-arrow:before {content: \"▸\";float: left;margin-right: 0.25em;color: #696969;}#sk-container-id-3 label.sk-toggleable__label-arrow:hover:before {color: black;}#sk-container-id-3 div.sk-estimator:hover label.sk-toggleable__label-arrow:before {color: black;}#sk-container-id-3 div.sk-toggleable__content {max-height: 0;max-width: 0;overflow: hidden;text-align: left;background-color: #f0f8ff;}#sk-container-id-3 div.sk-toggleable__content pre {margin: 0.2em;color: black;border-radius: 0.25em;background-color: #f0f8ff;}#sk-container-id-3 input.sk-toggleable__control:checked~div.sk-toggleable__content {max-height: 200px;max-width: 100%;overflow: auto;}#sk-container-id-3 input.sk-toggleable__control:checked~label.sk-toggleable__label-arrow:before {content: \"▾\";}#sk-container-id-3 div.sk-estimator input.sk-toggleable__control:checked~label.sk-toggleable__label {background-color: #d4ebff;}#sk-container-id-3 div.sk-label input.sk-toggleable__control:checked~label.sk-toggleable__label {background-color: #d4ebff;}#sk-container-id-3 input.sk-hidden--visually {border: 0;clip: rect(1px 1px 1px 1px);clip: rect(1px, 1px, 1px, 1px);height: 1px;margin: -1px;overflow: hidden;padding: 0;position: absolute;width: 1px;}#sk-container-id-3 div.sk-estimator {font-family: monospace;background-color: #f0f8ff;border: 1px dotted black;border-radius: 0.25em;box-sizing: border-box;margin-bottom: 0.5em;}#sk-container-id-3 div.sk-estimator:hover {background-color: #d4ebff;}#sk-container-id-3 div.sk-parallel-item::after {content: \"\";width: 100%;border-bottom: 1px solid gray;flex-grow: 1;}#sk-container-id-3 div.sk-label:hover label.sk-toggleable__label {background-color: #d4ebff;}#sk-container-id-3 div.sk-serial::before {content: \"\";position: absolute;border-left: 1px solid gray;box-sizing: border-box;top: 0;bottom: 0;left: 50%;z-index: 0;}#sk-container-id-3 div.sk-serial {display: flex;flex-direction: column;align-items: center;background-color: white;padding-right: 0.2em;padding-left: 0.2em;position: relative;}#sk-container-id-3 div.sk-item {position: relative;z-index: 1;}#sk-container-id-3 div.sk-parallel {display: flex;align-items: stretch;justify-content: center;background-color: white;position: relative;}#sk-container-id-3 div.sk-item::before, #sk-container-id-3 div.sk-parallel-item::before {content: \"\";position: absolute;border-left: 1px solid gray;box-sizing: border-box;top: 0;bottom: 0;left: 50%;z-index: -1;}#sk-container-id-3 div.sk-parallel-item {display: flex;flex-direction: column;z-index: 1;position: relative;background-color: white;}#sk-container-id-3 div.sk-parallel-item:first-child::after {align-self: flex-end;width: 50%;}#sk-container-id-3 div.sk-parallel-item:last-child::after {align-self: flex-start;width: 50%;}#sk-container-id-3 div.sk-parallel-item:only-child::after {width: 0;}#sk-container-id-3 div.sk-dashed-wrapped {border: 1px dashed gray;margin: 0 0.4em 0.5em 0.4em;box-sizing: border-box;padding-bottom: 0.4em;background-color: white;}#sk-container-id-3 div.sk-label label {font-family: monospace;font-weight: bold;display: inline-block;line-height: 1.2em;}#sk-container-id-3 div.sk-label-container {text-align: center;}#sk-container-id-3 div.sk-container {/* jupyter's `normalize.less` sets `[hidden] { display: none; }` but bootstrap.min.css set `[hidden] { display: none !important; }` so we also need the `!important` here to be able to override the default hidden behavior on the sphinx rendered scikit-learn.org. See: https://github.com/scikit-learn/scikit-learn/issues/21755 */display: inline-block !important;position: relative;}#sk-container-id-3 div.sk-text-repr-fallback {display: none;}</style><div id=\"sk-container-id-3\" class=\"sk-top-container\"><div class=\"sk-text-repr-fallback\"><pre>SVC(kernel=&#x27;linear&#x27;)</pre><b>In a Jupyter environment, please rerun this cell to show the HTML representation or trust the notebook. <br />On GitHub, the HTML representation is unable to render, please try loading this page with nbviewer.org.</b></div><div class=\"sk-container\" hidden><div class=\"sk-item\"><div class=\"sk-estimator sk-toggleable\"><input class=\"sk-toggleable__control sk-hidden--visually\" id=\"sk-estimator-id-3\" type=\"checkbox\" checked><label for=\"sk-estimator-id-3\" class=\"sk-toggleable__label sk-toggleable__label-arrow\">SVC</label><div class=\"sk-toggleable__content\"><pre>SVC(kernel=&#x27;linear&#x27;)</pre></div></div></div></div></div>"
     },
     "execution_count": 239,
     "metadata": {},
     "output_type": "execute_result"
    }
   ],
   "source": [
    "# Train the SVM model\n",
    "svm_model_voice.fit(X_train, y_train)\n",
    "\n"
   ],
   "metadata": {
    "collapsed": false,
    "ExecuteTime": {
     "end_time": "2024-01-03T02:55:27.643443100Z",
     "start_time": "2024-01-03T02:49:49.255245400Z"
    }
   },
   "id": "76571901a2e4036d"
  },
  {
   "cell_type": "code",
   "execution_count": 240,
   "outputs": [],
   "source": [
    "# Make predictions on the test set\n",
    "predictions = svm_model_voice.predict(X_test)\n",
    "\n"
   ],
   "metadata": {
    "collapsed": false,
    "ExecuteTime": {
     "end_time": "2024-01-03T02:55:27.967964300Z",
     "start_time": "2024-01-03T02:55:27.643443100Z"
    }
   },
   "id": "42514e57f6defa8"
  },
  {
   "cell_type": "code",
   "execution_count": 241,
   "outputs": [
    {
     "name": "stdout",
     "output_type": "stream",
     "text": [
      "Accuracy: 0.6455566905005107\n",
      "Classification Report:\n",
      "               precision    recall  f1-score   support\n",
      "\n",
      "   ahmed_ali       0.64      0.67      0.65       482\n",
      "       bedro       0.69      0.67      0.68       526\n",
      "      hassan       0.60      0.64      0.62       571\n",
      "    muhannad       0.67      0.59      0.63       379\n",
      "\n",
      "    accuracy                           0.65      1958\n",
      "   macro avg       0.65      0.64      0.65      1958\n",
      "weighted avg       0.65      0.65      0.65      1958\n"
     ]
    }
   ],
   "source": [
    "# Evaluate the performance of the model\n",
    "accuracy = accuracy_score(y_test, predictions)\n",
    "classification_rep = classification_report(y_test, predictions)\n",
    "\n",
    "# Print the results\n",
    "print(\"Accuracy:\", accuracy)\n",
    "print(\"Classification Report:\\n\", classification_rep)"
   ],
   "metadata": {
    "collapsed": false,
    "ExecuteTime": {
     "end_time": "2024-01-03T02:55:28.007403800Z",
     "start_time": "2024-01-03T02:55:27.969966400Z"
    }
   },
   "id": "3860f5528d77440b"
  },
  {
   "cell_type": "code",
   "execution_count": null,
   "outputs": [],
   "source": [],
   "metadata": {
    "collapsed": false
   },
   "id": "d8913274ca7e42cd"
  }
 ],
 "metadata": {
  "kernelspec": {
   "display_name": "Python 3",
   "language": "python",
   "name": "python3"
  },
  "language_info": {
   "codemirror_mode": {
    "name": "ipython",
    "version": 2
   },
   "file_extension": ".py",
   "mimetype": "text/x-python",
   "name": "python",
   "nbconvert_exporter": "python",
   "pygments_lexer": "ipython2",
   "version": "2.7.6"
  }
 },
 "nbformat": 4,
 "nbformat_minor": 5
}
