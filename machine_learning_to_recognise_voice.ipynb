{
 "cells": [
  {
   "cell_type": "code",
   "execution_count": 87,
   "id": "initial_id",
   "metadata": {
    "collapsed": true,
    "ExecuteTime": {
     "end_time": "2024-01-03T17:54:57.927552500Z",
     "start_time": "2024-01-03T17:54:57.915558900Z"
    }
   },
   "outputs": [],
   "source": [
    "import os\n",
    "import numpy as np\n",
    "import pandas as pd\n",
    "from sklearn.model_selection import train_test_split\n",
    "from sklearn.preprocessing import StandardScaler\n",
    "from sklearn.svm import SVC\n",
    "from sklearn.metrics import accuracy_score\n",
    "import librosa\n",
    "from sklearn.model_selection import train_test_split\n",
    "from sklearn.svm import SVC\n",
    "from sklearn.metrics import accuracy_score, classification_report"
   ]
  },
  {
   "cell_type": "code",
   "execution_count": 88,
   "outputs": [],
   "source": [
    "def extract_mfccs(file_path):\n",
    "    y, sr = librosa.load(file_path)\n",
    "    mfccs = librosa.feature.mfcc(y=y, sr=sr)\n",
    "    mfccs = mfccs.T\n",
    "    mean=[]\n",
    "    var=[]\n",
    "    #(216) rows = frames ,  and (26) columns = features\n",
    "    for i in range(len(mfccs)):\n",
    "        mean.append(np.mean(mfccs[i]))\n",
    "        var.append(np.var(mfccs[i]))\n",
    "\n",
    "    features = np.hstack([mean,var])\n",
    "    return pd.DataFrame(features, columns=[\"MFCCs\"])"
   ],
   "metadata": {
    "collapsed": false,
    "ExecuteTime": {
     "end_time": "2024-01-03T17:54:58.434118700Z",
     "start_time": "2024-01-03T17:54:58.428558900Z"
    }
   },
   "id": "c01476d2d0c39c8"
  },
  {
   "cell_type": "code",
   "execution_count": 89,
   "outputs": [],
   "source": [
    "def extract_pitch(file_path):\n",
    "    y, sr = librosa.load(file_path)\n",
    "    pitches, magnitudes = librosa.core.piptrack(y=y, sr=sr)\n",
    "    pitch = np.mean(pitches[magnitudes > np.max(magnitudes) * 0.85])\n",
    "    return pd.DataFrame({\"Pitch\": [pitch]})"
   ],
   "metadata": {
    "collapsed": false,
    "ExecuteTime": {
     "end_time": "2024-01-03T17:54:59.019018400Z",
     "start_time": "2024-01-03T17:54:59.014506900Z"
    }
   },
   "id": "e6d0d2cc5bd13977"
  },
  {
   "cell_type": "code",
   "execution_count": 90,
   "outputs": [],
   "source": [
    "def extract_chroma(file_path):\n",
    "    y, sr = librosa.load(file_path)\n",
    "    chroma = librosa.feature.chroma_stft(y=y, sr=sr)\n",
    "    chroma = chroma.T\n",
    "    feature_names = [f\"Chroma_{i+1}\" for i in range(chroma.shape[1])]\n",
    "    return pd.DataFrame(chroma, columns=feature_names)"
   ],
   "metadata": {
    "collapsed": false,
    "ExecuteTime": {
     "end_time": "2024-01-03T17:54:59.510683100Z",
     "start_time": "2024-01-03T17:54:59.505701800Z"
    }
   },
   "id": "8cf1083d8ba507ce"
  },
  {
   "cell_type": "code",
   "execution_count": 91,
   "outputs": [],
   "source": [
    "def extract_zero_crossings(file_path):\n",
    "    y, sr = librosa.load(file_path)\n",
    "    zero_crossings = librosa.feature.zero_crossing_rate(y)\n",
    "    zero_crossings = zero_crossings.T\n",
    "    feature_names = [f\"ZeroCrossings_{i+1}\" for i in range(zero_crossings.shape[1])]\n",
    "    return pd.DataFrame(zero_crossings, columns=feature_names)"
   ],
   "metadata": {
    "collapsed": false,
    "ExecuteTime": {
     "end_time": "2024-01-03T17:55:00.035508300Z",
     "start_time": "2024-01-03T17:55:00.031511300Z"
    }
   },
   "id": "9bbce45c9fa59891"
  },
  {
   "cell_type": "code",
   "execution_count": 92,
   "outputs": [],
   "source": [
    "def extract_spectral_contrast(file_path):\n",
    "    y, sr = librosa.load(file_path)\n",
    "    spectral_contrast = librosa.feature.spectral_contrast(y=y, sr=sr)\n",
    "    spectral_contrast = spectral_contrast.T \n",
    "    feature_names = [f\"SpectralContrast_{i+1}\" for i in range(spectral_contrast.shape[1])]\n",
    "    return pd.DataFrame(spectral_contrast, columns=feature_names)"
   ],
   "metadata": {
    "collapsed": false,
    "ExecuteTime": {
     "end_time": "2024-01-03T17:55:00.537061200Z",
     "start_time": "2024-01-03T17:55:00.531066600Z"
    }
   },
   "id": "6fd08dc1bc04c8ea"
  },
  {
   "cell_type": "code",
   "execution_count": 109,
   "outputs": [],
   "source": [
    "def process_user_folder(folder_path):\n",
    "    mfccs_list = []\n",
    "\n",
    "    # Iterate over all .wav files in the folder\n",
    "    for file_name in os.listdir(folder_path):\n",
    "        if file_name.endswith(\".wav\"):\n",
    "            file_path = os.path.join(folder_path, file_name)\n",
    "\n",
    "            # Extract features for each file\n",
    "            mfccs = extract_mfccs(file_path)\n",
    "\n",
    "            # Append the DataFrame to the list\n",
    "            mfccs_list.append(mfccs)\n",
    "\n",
    "    # Concatenate all DataFrames in the list along columns\n",
    "    if mfccs_list:\n",
    "        compined_features = pd.concat(mfccs_list, axis=1)\n",
    "        return compined_features\n",
    "\n",
    "    # return None\n"
   ],
   "metadata": {
    "collapsed": false,
    "ExecuteTime": {
     "end_time": "2024-01-03T18:03:31.197210900Z",
     "start_time": "2024-01-03T18:03:31.181688500Z"
    }
   },
   "id": "96ee10899d914629"
  },
  {
   "cell_type": "code",
   "execution_count": 110,
   "outputs": [],
   "source": [
    "# Specify the path of the main folder\n",
    "main_folder_path = \"voices\"\n",
    "\n",
    "# Get a list of all subfolders inside the main folder\n",
    "subfolders = [f.path for f in os.scandir(main_folder_path) if f.is_dir()]\n",
    "# Initialize an empty dictionary for storing features\n",
    "data_voice_recognition_features = {\n",
    "    \"ahmed_ali\": None,\n",
    "    \"bedro\": None,\n",
    "    \"hassan\": None,\n",
    "    \"muhannad\": None,\n",
    "    \"abdulla_ahmed\": None,\n",
    "    \"ashf\": None,\n",
    "    \"atef\": None,\n",
    "    \"hazem_rafaat\": None\n",
    "}\n",
    "\n",
    "# Loop over each subfolder\n",
    "for subfolder_path in subfolders:\n",
    "    # Extract the name of the subfolder\n",
    "    subfolder_name = os.path.basename(subfolder_path)\n",
    "\n",
    "    if subfolder_name in data_voice_recognition_features.keys():\n",
    "        # Create a variable with the features of the subfolder\n",
    "        features = process_user_folder(subfolder_path)\n",
    "\n",
    "        # Update the dictionary with the DataFrame (or None if no features)\n",
    "        data_voice_recognition_features[subfolder_name] = features\n",
    "\n",
    "# Create a DataFrame from the dictionary\n",
    "df_voice_recognition_features = pd.concat(data_voice_recognition_features.values(), axis=1)\n",
    "\n",
    "# Transpose the DataFrame to have voices as rows and features as columns\n",
    "df_voice_recognition_features = df_voice_recognition_features.T\n",
    "\n",
    "# Reset index to make 'Subfolder' a column\n",
    "df_voice_recognition_features.reset_index(inplace=True)\n",
    "\n",
    "# Rename the 'index' column to 'Voice'\n",
    "df_voice_recognition_features.rename(columns={'index': 'Voice'}, inplace=True)"
   ],
   "metadata": {
    "collapsed": false,
    "ExecuteTime": {
     "end_time": "2024-01-03T18:03:34.182518200Z",
     "start_time": "2024-01-03T18:03:31.871694Z"
    }
   },
   "id": "9dc41ef27254ba4e"
  },
  {
   "cell_type": "code",
   "execution_count": 111,
   "outputs": [
    {
     "data": {
      "text/plain": "{'ahmed_ali':          MFCCs      MFCCs      MFCCs      MFCCs      MFCCs      MFCCs  \\\n 0   -16.382910 -10.935716 -18.388676 -16.481791 -17.809553 -15.260443   \n 1   -18.052292 -12.832460 -20.071465 -18.007294 -19.191351 -17.435467   \n 2   -19.192226 -19.318407 -18.185013 -19.327501 -20.943422 -17.570810   \n 3   -15.380415 -15.853374 -15.162692 -16.491520 -16.852911 -15.827769   \n 4   -13.209841 -13.173674 -14.204920 -15.428556 -15.411261 -14.698550   \n ..         ...        ...        ...        ...        ...        ...   \n 193        NaN        NaN        NaN        NaN        NaN        NaN   \n 194        NaN        NaN        NaN        NaN        NaN        NaN   \n 195        NaN        NaN        NaN        NaN        NaN        NaN   \n 196        NaN        NaN        NaN        NaN        NaN        NaN   \n 197        NaN        NaN        NaN        NaN        NaN        NaN   \n \n          MFCCs      MFCCs      MFCCs      MFCCs  ...      MFCCs      MFCCs  \\\n 0   -18.093000 -12.924840 -17.933439 -14.881714  ... -11.580630  -9.594381   \n 1   -20.187725 -14.887486 -19.348478 -16.471317  ... -13.593059 -11.809367   \n 2   -25.088573 -19.519186 -18.291294 -18.924355  ... -14.820801 -15.639928   \n 3   -20.167828 -16.280348 -15.204010 -16.331434  ... -11.135810 -13.545036   \n 4   -15.393661 -13.883008 -13.822044 -15.019559  ...  -9.428696 -12.348333   \n ..         ...        ...        ...        ...  ...        ...        ...   \n 193        NaN        NaN        NaN        NaN  ...        NaN        NaN   \n 194        NaN        NaN        NaN        NaN  ...        NaN        NaN   \n 195        NaN        NaN        NaN        NaN  ...        NaN        NaN   \n 196        NaN        NaN        NaN        NaN  ...        NaN        NaN   \n 197        NaN        NaN        NaN        NaN  ...        NaN        NaN   \n \n          MFCCs      MFCCs        MFCCs      MFCCs      MFCCs      MFCCs  \\\n 0   -12.090757 -14.537709    -9.124473 -10.613745 -16.579000 -11.075458   \n 1   -13.100505 -16.629906   -10.989803 -12.316031 -18.724392 -12.652243   \n 2   -16.159624 -16.913822   -14.505701 -15.911171 -17.169506 -15.765991   \n 3   -12.978946 -12.686551   -10.756052 -12.160974 -13.248225 -13.308408   \n 4   -11.508187 -10.097268    -9.231848 -11.502589 -10.766199 -12.211706   \n ..         ...        ...          ...        ...        ...        ...   \n 193        NaN        NaN  3546.810547        NaN        NaN        NaN   \n 194        NaN        NaN  3517.512207        NaN        NaN        NaN   \n 195        NaN        NaN  3751.544922        NaN        NaN        NaN   \n 196        NaN        NaN  4021.494873        NaN        NaN        NaN   \n 197        NaN        NaN  5280.818359        NaN        NaN        NaN   \n \n          MFCCs      MFCCs  \n 0   -14.812121 -12.446062  \n 1   -17.094313 -14.595100  \n 2   -16.320719 -15.304390  \n 3   -15.061167 -12.628242  \n 4   -15.003749 -11.029857  \n ..         ...        ...  \n 193        NaN        NaN  \n 194        NaN        NaN  \n 195        NaN        NaN  \n 196        NaN        NaN  \n 197        NaN        NaN  \n \n [198 rows x 30 columns],\n 'bedro':             MFCCs         MFCCs         MFCCs         MFCCs         MFCCs  \\\n 0      -13.513865    -13.513865    -13.513865    -13.513865    -13.513865   \n 1      -14.717049    -14.717049    -14.717049    -14.717049    -14.717049   \n 2      -15.917562    -15.917562    -15.917562    -15.917562    -15.917562   \n 3      -13.729424    -13.729424    -13.729424    -13.729424    -13.729424   \n 4      -10.526117    -10.526117    -10.526117    -10.526117    -10.526117   \n ..            ...           ...           ...           ...           ...   \n 177  10492.728516  10492.728516  10492.728516  10492.728516  10492.728516   \n 178  10253.478516  10253.478516  10253.478516  10253.478516  10253.478516   \n 179   9876.645508   9876.645508   9876.645508   9876.645508   9876.645508   \n 180   9859.739258   9859.739258   9859.739258   9859.739258   9859.739258   \n 181  10704.906250  10704.906250  10704.906250  10704.906250  10704.906250   \n \n             MFCCs         MFCCs         MFCCs         MFCCs         MFCCs  \\\n 0      -13.513865    -13.513865    -13.513865    -13.513865    -13.513865   \n 1      -14.717049    -14.717049    -14.717049    -14.717049    -14.717049   \n 2      -15.917562    -15.917562    -15.917562    -15.917562    -15.917562   \n 3      -13.729424    -13.729424    -13.729424    -13.729424    -13.729424   \n 4      -10.526117    -10.526117    -10.526117    -10.526117    -10.526117   \n ..            ...           ...           ...           ...           ...   \n 177  10492.728516  10492.728516  10492.728516  10492.728516  10492.728516   \n 178  10253.478516  10253.478516  10253.478516  10253.478516  10253.478516   \n 179   9876.645508   9876.645508   9876.645508   9876.645508   9876.645508   \n 180   9859.739258   9859.739258   9859.739258   9859.739258   9859.739258   \n 181  10704.906250  10704.906250  10704.906250  10704.906250  10704.906250   \n \n      ...      MFCCs      MFCCs      MFCCs      MFCCs      MFCCs      MFCCs  \\\n 0    ... -12.407358 -19.343109 -15.004437 -10.794384 -10.969404 -12.551481   \n 1    ... -13.950221 -18.747517 -17.131901 -13.392980 -12.416680 -14.025465   \n 2    ... -15.477391 -15.422381 -17.414070 -16.385376 -15.421263 -15.530008   \n 3    ... -11.537886 -12.983427 -13.746618 -13.906189 -13.293283 -12.460742   \n 4    ...  -9.941628 -11.061698 -10.836100 -12.820910 -12.019427 -10.147513   \n ..   ...        ...        ...        ...        ...        ...        ...   \n 177  ...        NaN        NaN        NaN        NaN        NaN        NaN   \n 178  ...        NaN        NaN        NaN        NaN        NaN        NaN   \n 179  ...        NaN        NaN        NaN        NaN        NaN        NaN   \n 180  ...        NaN        NaN        NaN        NaN        NaN        NaN   \n 181  ...        NaN        NaN        NaN        NaN        NaN        NaN   \n \n          MFCCs      MFCCs      MFCCs      MFCCs  \n 0   -14.592440 -13.071701  -9.351774 -16.687708  \n 1   -16.325138 -15.250122 -11.108561 -18.132698  \n 2   -16.770004 -16.997427 -16.112503 -15.398558  \n 3   -14.973842 -12.900881 -13.255013 -12.460781  \n 4   -12.726798 -11.892574 -11.785053 -12.071561  \n ..         ...        ...        ...        ...  \n 177        NaN        NaN        NaN        NaN  \n 178        NaN        NaN        NaN        NaN  \n 179        NaN        NaN        NaN        NaN  \n 180        NaN        NaN        NaN        NaN  \n 181        NaN        NaN        NaN        NaN  \n \n [182 rows x 30 columns],\n 'hassan':          MFCCs      MFCCs      MFCCs      MFCCs      MFCCs      MFCCs  \\\n 0   -14.351155 -13.234073 -11.258278  -9.962817 -10.758714 -10.709890   \n 1   -15.741819 -14.951513 -13.032896 -11.869855 -12.424239 -12.472338   \n 2   -15.617457 -18.147982 -13.394963 -13.373522 -17.840660 -17.554008   \n 3   -13.026776 -14.174788 -11.575471  -9.636749 -14.414259 -13.054323   \n 4   -13.055379 -10.573694 -11.018118  -8.656397 -11.412260 -11.585902   \n ..         ...        ...        ...        ...        ...        ...   \n 229        NaN        NaN        NaN        NaN        NaN        NaN   \n 230        NaN        NaN        NaN        NaN        NaN        NaN   \n 231        NaN        NaN        NaN        NaN        NaN        NaN   \n 232        NaN        NaN        NaN        NaN        NaN        NaN   \n 233        NaN        NaN        NaN        NaN        NaN        NaN   \n \n            MFCCs      MFCCs      MFCCs      MFCCs  ...      MFCCs      MFCCs  \\\n 0     -12.327258 -13.902288 -16.481558 -11.409119  ... -15.062637 -14.461177   \n 1     -13.508077 -16.010113 -17.410618 -13.352922  ... -16.985306 -15.695602   \n 2     -15.347399 -15.576818 -15.365659 -15.253563  ... -16.296228 -14.483198   \n 3     -12.845657 -11.795829 -13.170049 -11.633314  ... -12.509054 -12.849541   \n 4     -11.285174 -11.384719 -11.269415 -10.680414  ... -10.217494 -12.792475   \n ..           ...        ...        ...        ...  ...        ...        ...   \n 229  8028.894531        NaN        NaN        NaN  ...        NaN        NaN   \n 230  8301.346680        NaN        NaN        NaN  ...        NaN        NaN   \n 231  8436.608398        NaN        NaN        NaN  ...        NaN        NaN   \n 232  8314.659180        NaN        NaN        NaN  ...        NaN        NaN   \n 233  8434.331055        NaN        NaN        NaN  ...        NaN        NaN   \n \n          MFCCs      MFCCs      MFCCs      MFCCs      MFCCs      MFCCs  \\\n 0   -11.491385 -12.758936 -14.476044 -12.394103 -12.647937 -15.908567   \n 1   -13.584167 -15.633797 -16.968182 -14.493337 -14.047711 -17.549534   \n 2   -16.103813 -18.113459 -15.866399 -16.422852 -15.655592 -15.599713   \n 3   -13.393785 -14.412333 -13.506693 -13.020437 -12.721742 -12.302013   \n 4   -11.995580 -11.482308 -13.473767 -11.690168 -11.143764 -11.636802   \n ..         ...        ...        ...        ...        ...        ...   \n 229        NaN        NaN        NaN        NaN        NaN        NaN   \n 230        NaN        NaN        NaN        NaN        NaN        NaN   \n 231        NaN        NaN        NaN        NaN        NaN        NaN   \n 232        NaN        NaN        NaN        NaN        NaN        NaN   \n 233        NaN        NaN        NaN        NaN        NaN        NaN   \n \n          MFCCs      MFCCs  \n 0    -9.991779 -15.369870  \n 1   -11.698619 -16.363079  \n 2   -16.392815 -15.301615  \n 3   -14.315668 -12.885077  \n 4   -13.022036 -11.780603  \n ..         ...        ...  \n 229        NaN        NaN  \n 230        NaN        NaN  \n 231        NaN        NaN  \n 232        NaN        NaN  \n 233        NaN        NaN  \n \n [234 rows x 30 columns],\n 'muhannad':          MFCCs      MFCCs      MFCCs      MFCCs      MFCCs      MFCCs  \\\n 0   -12.556087 -15.218065 -14.294413 -12.798840  -6.630628 -10.116888   \n 1   -14.174855 -16.190115 -16.376629 -14.589668  -8.482679 -11.808008   \n 2   -16.458256 -15.656100 -16.598879 -18.249447 -13.901593 -17.186325   \n 3   -11.895022 -13.361560 -13.972322 -15.461668 -11.614876 -14.227806   \n 4   -10.342038 -12.742963 -12.315938 -13.558161  -9.995067 -12.000251   \n ..         ...        ...        ...        ...        ...        ...   \n 241        NaN        NaN        NaN        NaN        NaN        NaN   \n 242        NaN        NaN        NaN        NaN        NaN        NaN   \n 243        NaN        NaN        NaN        NaN        NaN        NaN   \n 244        NaN        NaN        NaN        NaN        NaN        NaN   \n 245        NaN        NaN        NaN        NaN        NaN        NaN   \n \n          MFCCs      MFCCs      MFCCs      MFCCs      MFCCs      MFCCs  \\\n 0   -14.086728 -10.539676 -12.362085 -12.713053 -12.141086 -15.011246   \n 1   -16.329975 -13.405342 -13.702489 -14.844572 -14.560577 -17.023857   \n 2   -17.106291 -14.848866 -14.268251 -14.085320 -17.135279 -16.026075   \n 3   -14.874229 -11.752130 -12.111225 -11.298399 -13.448825 -12.571722   \n 4   -14.551008  -9.838634 -12.274455 -11.049834 -11.995123 -10.720900   \n ..         ...        ...        ...        ...        ...        ...   \n 241        NaN        NaN        NaN        NaN        NaN        NaN   \n 242        NaN        NaN        NaN        NaN        NaN        NaN   \n 243        NaN        NaN        NaN        NaN        NaN        NaN   \n 244        NaN        NaN        NaN        NaN        NaN        NaN   \n 245        NaN        NaN        NaN        NaN        NaN        NaN   \n \n          MFCCs      MFCCs         MFCCs      MFCCs      MFCCs      MFCCs  \\\n 0   -12.816943 -11.191801    -12.889353 -13.128271 -12.765751 -12.757010   \n 1   -14.270770 -13.537027    -13.798764 -14.791794 -14.499573 -14.538716   \n 2   -15.520180 -14.892164    -14.583727 -16.473742 -15.596151 -17.800476   \n 3   -12.545286 -12.250663    -12.085240 -11.927492 -12.764261 -14.483604   \n 4   -10.501254 -12.079311    -10.662469 -10.406101 -11.912462 -12.440477   \n ..         ...        ...           ...        ...        ...        ...   \n 241        NaN        NaN  10961.705078        NaN        NaN        NaN   \n 242        NaN        NaN  10775.026367        NaN        NaN        NaN   \n 243        NaN        NaN  10570.103516        NaN        NaN        NaN   \n 244        NaN        NaN  10230.413086        NaN        NaN        NaN   \n 245        NaN        NaN  11357.481445        NaN        NaN        NaN   \n \n          MFCCs      MFCCs  \n 0   -11.510841 -11.088383  \n 1   -14.073298 -12.871269  \n 2   -17.251167 -14.776967  \n 3   -13.527777 -13.036171  \n 4   -11.170711 -11.428999  \n ..         ...        ...  \n 241        NaN        NaN  \n 242        NaN        NaN  \n 243        NaN        NaN  \n 244        NaN        NaN  \n 245        NaN        NaN  \n \n [246 rows x 20 columns],\n 'abdulla_ahmed':          MFCCs      MFCCs      MFCCs      MFCCs      MFCCs      MFCCs  \\\n 0   -31.904171 -32.880657 -33.586639 -33.994686 -32.181786 -33.247364   \n 1   -16.472742 -17.239634 -18.918716 -21.329884 -18.214176 -16.940582   \n 2   -12.238970 -13.757541 -14.694316 -17.880705 -14.417837 -13.656752   \n 3   -14.399091 -15.752683 -15.952342 -18.292603 -15.982475 -16.068771   \n 4   -15.962679 -14.798880 -15.680941 -13.643758 -15.449430 -14.016768   \n ..         ...        ...        ...        ...        ...        ...   \n 175        NaN        NaN        NaN        NaN        NaN        NaN   \n 176        NaN        NaN        NaN        NaN        NaN        NaN   \n 177        NaN        NaN        NaN        NaN        NaN        NaN   \n 178        NaN        NaN        NaN        NaN        NaN        NaN   \n 179        NaN        NaN        NaN        NaN        NaN        NaN   \n \n          MFCCs      MFCCs      MFCCs      MFCCs  ...      MFCCs      MFCCs  \\\n 0   -32.949883 -33.588249 -33.001892 -33.574886  ... -30.867294 -36.367439   \n 1   -15.004107 -22.432934 -16.283358 -16.305578  ... -24.698442 -21.190224   \n 2   -10.921139 -12.999843 -12.712600 -12.808205  ... -15.710752 -15.813454   \n 3   -12.999690 -12.292157 -14.592110 -14.426791  ... -14.576109 -13.955790   \n 4   -13.877754 -15.950270 -13.076785 -12.876735  ... -15.901873  -9.677927   \n ..         ...        ...        ...        ...  ...        ...        ...   \n 175        NaN        NaN        NaN        NaN  ...        NaN        NaN   \n 176        NaN        NaN        NaN        NaN  ...        NaN        NaN   \n 177        NaN        NaN        NaN        NaN  ...        NaN        NaN   \n 178        NaN        NaN        NaN        NaN  ...        NaN        NaN   \n 179        NaN        NaN        NaN        NaN  ...        NaN        NaN   \n \n          MFCCs      MFCCs      MFCCs      MFCCs      MFCCs      MFCCs  \\\n 0   -34.054501 -33.781242 -33.842548 -32.394241 -32.284756 -32.841103   \n 1   -19.717106 -18.915054 -17.186409 -18.862560 -18.691944 -27.179760   \n 2   -15.614233 -14.681025 -13.346666 -15.136897 -15.244059 -24.748224   \n 3   -17.322386 -16.432810 -15.409884 -16.278936 -17.321930 -19.857101   \n 4   -14.702054 -16.067678 -14.919248 -14.361280 -15.549169 -15.036674   \n ..         ...        ...        ...        ...        ...        ...   \n 175        NaN        NaN        NaN        NaN        NaN        NaN   \n 176        NaN        NaN        NaN        NaN        NaN        NaN   \n 177        NaN        NaN        NaN        NaN        NaN        NaN   \n 178        NaN        NaN        NaN        NaN        NaN        NaN   \n 179        NaN        NaN        NaN        NaN        NaN        NaN   \n \n          MFCCs         MFCCs  \n 0   -32.695747    -32.809387  \n 1   -24.773590    -23.949158  \n 2   -21.163717    -19.986069  \n 3   -16.816912    -16.903538  \n 4   -13.746231    -13.130956  \n ..         ...           ...  \n 175        NaN  12112.663086  \n 176        NaN  12291.122070  \n 177        NaN  12252.020508  \n 178        NaN  12346.568359  \n 179        NaN  12784.915039  \n \n [180 rows x 30 columns],\n 'ashf':          MFCCs      MFCCs      MFCCs      MFCCs      MFCCs      MFCCs  \\\n 0   -24.720201 -23.999048 -27.712454 -28.926050 -28.372065 -28.503323   \n 1   -17.063335 -10.025970 -20.674479 -11.951755 -18.314251 -18.926462   \n 2   -13.877103  -6.991432 -13.836325  -8.150012 -13.957283 -14.055626   \n 3   -12.629044  -9.503521 -12.989668 -10.356508 -13.647331 -14.695376   \n 4   -10.716020  -9.469248  -9.623472 -11.950438  -9.592515 -12.032604   \n ..         ...        ...        ...        ...        ...        ...   \n 209        NaN        NaN        NaN        NaN        NaN        NaN   \n 210        NaN        NaN        NaN        NaN        NaN        NaN   \n 211        NaN        NaN        NaN        NaN        NaN        NaN   \n 212        NaN        NaN        NaN        NaN        NaN        NaN   \n 213        NaN        NaN        NaN        NaN        NaN        NaN   \n \n          MFCCs      MFCCs        MFCCs      MFCCs  ...      MFCCs      MFCCs  \\\n 0   -27.706234 -26.360962   -25.774143 -26.781424  ... -30.185165 -27.581676   \n 1   -15.330454 -13.502630   -20.136099 -13.646070  ...  -8.497550 -19.199406   \n 2   -10.832640  -9.530215   -16.224384  -9.601956  ...  -5.261835 -15.522978   \n 3   -11.652292 -11.447726   -10.907097 -10.676755  ...  -8.208405 -17.251635   \n 4    -9.408349 -11.681383    -8.044644  -9.222875  ... -10.904778 -18.400978   \n ..         ...        ...          ...        ...  ...        ...        ...   \n 209        NaN        NaN  7332.645996        NaN  ...        NaN        NaN   \n 210        NaN        NaN  7450.871094        NaN  ...        NaN        NaN   \n 211        NaN        NaN  7477.821289        NaN  ...        NaN        NaN   \n 212        NaN        NaN  7512.769531        NaN  ...        NaN        NaN   \n 213        NaN        NaN  7471.770508        NaN  ...        NaN        NaN   \n \n          MFCCs      MFCCs      MFCCs      MFCCs      MFCCs      MFCCs  \\\n 0   -27.634104 -28.541891 -28.263632 -26.204723 -26.028494 -24.985783   \n 1   -15.631068 -15.476431 -15.056027 -16.097597 -12.369235 -18.708179   \n 2   -12.129428 -11.285207 -10.189271 -13.087474  -8.705165 -15.538383   \n 3   -13.539377 -10.998359 -11.174002 -13.650989 -11.038066 -12.285667   \n 4    -8.824022  -8.139658 -10.199585  -8.241287 -10.618404  -7.760874   \n ..         ...        ...        ...        ...        ...        ...   \n 209        NaN        NaN        NaN        NaN        NaN        NaN   \n 210        NaN        NaN        NaN        NaN        NaN        NaN   \n 211        NaN        NaN        NaN        NaN        NaN        NaN   \n 212        NaN        NaN        NaN        NaN        NaN        NaN   \n 213        NaN        NaN        NaN        NaN        NaN        NaN   \n \n          MFCCs      MFCCs  \n 0   -24.434837 -23.529095  \n 1   -11.842958 -16.347555  \n 2    -8.699253 -13.253428  \n 3   -10.237382 -10.852813  \n 4    -8.537398  -7.871354  \n ..         ...        ...  \n 209        NaN        NaN  \n 210        NaN        NaN  \n 211        NaN        NaN  \n 212        NaN        NaN  \n 213        NaN        NaN  \n \n [214 rows x 30 columns],\n 'atef':          MFCCs      MFCCs      MFCCs      MFCCs      MFCCs      MFCCs  \\\n 0   -34.135563 -34.182873 -33.176453 -33.363266 -32.803291 -33.384651   \n 1   -17.216518 -19.482523 -18.882362 -23.476242 -17.985044 -15.133310   \n 2   -12.764673 -15.325773 -15.465014 -18.584425 -14.574533 -11.515204   \n 3   -14.299245 -16.308029 -17.075603 -19.369219 -16.095543 -14.257425   \n 4   -14.950012 -14.735750 -15.387189 -16.055235 -14.908679 -17.303555   \n ..         ...        ...        ...        ...        ...        ...   \n 163        NaN        NaN        NaN        NaN        NaN        NaN   \n 164        NaN        NaN        NaN        NaN        NaN        NaN   \n 165        NaN        NaN        NaN        NaN        NaN        NaN   \n 166        NaN        NaN        NaN        NaN        NaN        NaN   \n 167        NaN        NaN        NaN        NaN        NaN        NaN   \n \n          MFCCs      MFCCs         MFCCs      MFCCs  ...      MFCCs      MFCCs  \\\n 0   -33.807747 -32.139935    -32.594826 -32.348473  ... -34.093697 -35.406696   \n 1   -17.514349 -25.588299    -18.298977 -18.601160  ... -22.123245 -16.441044   \n 2   -13.776599 -17.821207    -15.204269 -14.200223  ... -17.983267 -12.520480   \n 3   -16.056883 -17.342676    -16.658302 -15.623856  ... -18.305384 -14.542053   \n 4   -14.479750 -13.273204    -14.020091 -16.395367  ... -15.221779 -15.178881   \n ..         ...        ...           ...        ...  ...        ...        ...   \n 163        NaN        NaN  11759.419922        NaN  ...        NaN        NaN   \n 164        NaN        NaN  11983.689453        NaN  ...        NaN        NaN   \n 165        NaN        NaN  12503.721680        NaN  ...        NaN        NaN   \n 166        NaN        NaN           NaN        NaN  ...        NaN        NaN   \n 167        NaN        NaN           NaN        NaN  ...        NaN        NaN   \n \n          MFCCs      MFCCs      MFCCs      MFCCs      MFCCs         MFCCs  \\\n 0   -32.610313 -33.079811 -36.223175 -35.294395 -35.367207    -35.348949   \n 1   -20.885267 -16.381783 -20.241138 -18.494713 -23.007420    -19.846151   \n 2   -16.199879 -12.602034 -17.249535 -13.433220 -18.134377    -16.507326   \n 3   -16.964260 -14.696806 -18.661301 -15.231447 -18.357035    -17.540699   \n 4   -16.222902 -14.922368 -15.764414 -16.225809 -15.619138    -13.208964   \n ..         ...        ...        ...        ...        ...           ...   \n 163        NaN        NaN        NaN        NaN        NaN  13642.380859   \n 164        NaN        NaN        NaN        NaN        NaN  13617.364258   \n 165        NaN        NaN        NaN        NaN        NaN  13439.831055   \n 166        NaN        NaN        NaN        NaN        NaN           NaN   \n 167        NaN        NaN        NaN        NaN        NaN           NaN   \n \n          MFCCs         MFCCs  \n 0   -36.811897    -36.546455  \n 1   -25.480856    -25.934885  \n 2   -22.263264    -21.959545  \n 3   -20.219069    -18.564005  \n 4   -15.517723    -16.592045  \n ..         ...           ...  \n 163        NaN  13814.924805  \n 164        NaN  14083.245117  \n 165        NaN  14125.973633  \n 166        NaN  14120.423828  \n 167        NaN  14667.333008  \n \n [168 rows x 30 columns],\n 'hazem_rafaat':          MFCCs      MFCCs      MFCCs      MFCCs      MFCCs      MFCCs  \\\n 0   -31.577921 -33.810940 -34.213600 -34.001476 -34.800285 -33.676109   \n 1   -22.056795 -16.261160 -25.549639 -15.877500 -17.293108 -21.849342   \n 2   -19.012106 -12.405798 -21.623198 -12.536653 -13.181952 -18.488327   \n 3   -17.621853 -14.263250 -20.543760 -15.158818 -15.213407 -18.357435   \n 4   -14.470434 -14.465086 -16.258556 -13.852509 -15.721118 -14.035830   \n ..         ...        ...        ...        ...        ...        ...   \n 191        NaN        NaN        NaN        NaN        NaN        NaN   \n 192        NaN        NaN        NaN        NaN        NaN        NaN   \n 193        NaN        NaN        NaN        NaN        NaN        NaN   \n 194        NaN        NaN        NaN        NaN        NaN        NaN   \n 195        NaN        NaN        NaN        NaN        NaN        NaN   \n \n          MFCCs      MFCCs      MFCCs         MFCCs  ...      MFCCs      MFCCs  \\\n 0   -33.436131 -33.460655 -33.499638    -33.915764  ... -32.630775 -33.701923   \n 1   -27.671528 -20.899826 -21.183826    -17.060564  ... -16.124378 -22.244461   \n 2   -21.513130 -16.850048 -16.891628    -13.515963  ... -12.507037 -18.366121   \n 3   -15.817513 -18.261845 -17.935083    -15.455124  ... -14.469836 -17.333067   \n 4   -11.994291 -14.442019 -14.727861    -16.483479  ... -16.646946 -16.895512   \n ..         ...        ...        ...           ...  ...        ...        ...   \n 191        NaN        NaN        NaN   9504.691406  ...        NaN        NaN   \n 192        NaN        NaN        NaN  12060.646484  ...        NaN        NaN   \n 193        NaN        NaN        NaN  12874.998047  ...        NaN        NaN   \n 194        NaN        NaN        NaN           NaN  ...        NaN        NaN   \n 195        NaN        NaN        NaN           NaN  ...        NaN        NaN   \n \n          MFCCs      MFCCs      MFCCs      MFCCs      MFCCs      MFCCs  \\\n 0   -29.989902 -33.393169 -30.737076 -30.852840 -31.597967 -32.203934   \n 1   -21.634094 -25.171709 -24.320917 -18.847103 -16.616116 -18.460608   \n 2   -17.716751 -21.965466 -20.232538 -14.758459 -12.345858 -13.384254   \n 3   -17.650236 -17.458202 -15.739123 -16.505819 -14.036962 -14.174228   \n 4   -15.094255 -13.606806 -12.693456 -14.087309 -14.139610 -13.937067   \n ..         ...        ...        ...        ...        ...        ...   \n 191        NaN        NaN        NaN        NaN        NaN        NaN   \n 192        NaN        NaN        NaN        NaN        NaN        NaN   \n 193        NaN        NaN        NaN        NaN        NaN        NaN   \n 194        NaN        NaN        NaN        NaN        NaN        NaN   \n 195        NaN        NaN        NaN        NaN        NaN        NaN   \n \n          MFCCs      MFCCs  \n 0   -31.991669 -33.313667  \n 1   -15.626043 -28.127085  \n 2   -11.568723 -22.668053  \n 3   -13.248625 -18.066122  \n 4   -15.085413 -14.480784  \n ..         ...        ...  \n 191        NaN        NaN  \n 192        NaN        NaN  \n 193        NaN        NaN  \n 194        NaN        NaN  \n 195        NaN        NaN  \n \n [196 rows x 29 columns]}"
     },
     "execution_count": 111,
     "metadata": {},
     "output_type": "execute_result"
    }
   ],
   "source": [
    "data_voice_recognition_features"
   ],
   "metadata": {
    "collapsed": false,
    "ExecuteTime": {
     "end_time": "2024-01-03T18:03:35.209095400Z",
     "start_time": "2024-01-03T18:03:35.154020500Z"
    }
   },
   "id": "e93060bf02dc04a6"
  },
  {
   "cell_type": "code",
   "execution_count": 112,
   "outputs": [
    {
     "name": "stdout",
     "output_type": "stream",
     "text": [
      "     Voice          0          1          2          3          4          5  \\\n",
      "0    MFCCs -16.382910 -18.052292 -19.192226 -15.380415 -13.209841 -13.308472   \n",
      "1    MFCCs -10.935716 -12.832460 -19.318407 -15.853374 -13.173674 -13.224785   \n",
      "2    MFCCs -18.388676 -20.071465 -18.185013 -15.162692 -14.204920 -14.464134   \n",
      "3    MFCCs -16.481791 -18.007294 -19.327501 -16.491520 -15.428556 -12.703568   \n",
      "4    MFCCs -17.809553 -19.191351 -20.943422 -16.852911 -15.411261 -14.127642   \n",
      "..     ...        ...        ...        ...        ...        ...        ...   \n",
      "224  MFCCs -30.852840 -18.847103 -14.758459 -16.505819 -14.087309 -12.932907   \n",
      "225  MFCCs -31.597967 -16.616116 -12.345858 -14.036962 -14.139610 -12.477659   \n",
      "226  MFCCs -32.203934 -18.460608 -13.384254 -14.174228 -13.937067 -12.396997   \n",
      "227  MFCCs -31.991669 -15.626043 -11.568723 -13.248625 -15.085413 -11.856977   \n",
      "228  MFCCs -33.313667 -28.127085 -22.668053 -18.066122 -14.480784 -13.353956   \n",
      "\n",
      "             6          7          8  ...  236  237  238  239  240  241  242  \\\n",
      "0   -12.702825 -12.030954 -12.950651  ...  NaN  NaN  NaN  NaN  NaN  NaN  NaN   \n",
      "1   -15.118744 -14.083328 -13.533747  ...  NaN  NaN  NaN  NaN  NaN  NaN  NaN   \n",
      "2   -12.740707 -11.396880 -11.177973  ...  NaN  NaN  NaN  NaN  NaN  NaN  NaN   \n",
      "3   -11.690186 -12.220591 -12.002390  ...  NaN  NaN  NaN  NaN  NaN  NaN  NaN   \n",
      "4   -13.742389 -13.341939 -14.211637  ...  NaN  NaN  NaN  NaN  NaN  NaN  NaN   \n",
      "..         ...        ...        ...  ...  ...  ...  ...  ...  ...  ...  ...   \n",
      "224 -14.408977 -12.112562 -10.833921  ...  NaN  NaN  NaN  NaN  NaN  NaN  NaN   \n",
      "225 -12.115431 -12.534286 -11.884884  ...  NaN  NaN  NaN  NaN  NaN  NaN  NaN   \n",
      "226 -11.063251 -11.835158 -13.338812  ...  NaN  NaN  NaN  NaN  NaN  NaN  NaN   \n",
      "227 -11.851486 -12.881053 -12.352569  ...  NaN  NaN  NaN  NaN  NaN  NaN  NaN   \n",
      "228 -13.999992 -13.962415 -13.678927  ...  NaN  NaN  NaN  NaN  NaN  NaN  NaN   \n",
      "\n",
      "     243  244  245  \n",
      "0    NaN  NaN  NaN  \n",
      "1    NaN  NaN  NaN  \n",
      "2    NaN  NaN  NaN  \n",
      "3    NaN  NaN  NaN  \n",
      "4    NaN  NaN  NaN  \n",
      "..   ...  ...  ...  \n",
      "224  NaN  NaN  NaN  \n",
      "225  NaN  NaN  NaN  \n",
      "226  NaN  NaN  NaN  \n",
      "227  NaN  NaN  NaN  \n",
      "228  NaN  NaN  NaN  \n",
      "\n",
      "[229 rows x 247 columns]\n"
     ]
    }
   ],
   "source": [
    "print(df_voice_recognition_features)\n"
   ],
   "metadata": {
    "collapsed": false,
    "ExecuteTime": {
     "end_time": "2024-01-03T18:03:37.901504700Z",
     "start_time": "2024-01-03T18:03:37.882548500Z"
    }
   },
   "id": "7e3a86a97f111963"
  },
  {
   "cell_type": "code",
   "execution_count": 113,
   "outputs": [
    {
     "name": "stdout",
     "output_type": "stream",
     "text": [
      "     Voice  Feature_1  Feature_2  Feature_3  Feature_4  Feature_5  Feature_6  \\\n",
      "0    Voice      MFCCs      MFCCs      MFCCs      MFCCs      MFCCs      MFCCs   \n",
      "1        0  -16.38291 -10.935716 -18.388676 -16.481791 -17.809553 -15.260443   \n",
      "2        1 -18.052292  -12.83246 -20.071465 -18.007294 -19.191351 -17.435467   \n",
      "3        2 -19.192226 -19.318407 -18.185013 -19.327501 -20.943422  -17.57081   \n",
      "4        3 -15.380415 -15.853374 -15.162692  -16.49152 -16.852911 -15.827769   \n",
      "..     ...        ...        ...        ...        ...        ...        ...   \n",
      "242    241        NaN        NaN        NaN        NaN        NaN        NaN   \n",
      "243    242        NaN        NaN        NaN        NaN        NaN        NaN   \n",
      "244    243        NaN        NaN        NaN        NaN        NaN        NaN   \n",
      "245    244        NaN        NaN        NaN        NaN        NaN        NaN   \n",
      "246    245        NaN        NaN        NaN        NaN        NaN        NaN   \n",
      "\n",
      "     Feature_7  Feature_8  Feature_9  ... Feature_220 Feature_221 Feature_222  \\\n",
      "0        MFCCs      MFCCs      MFCCs  ...       MFCCs       MFCCs       MFCCs   \n",
      "1      -18.093  -12.92484 -17.933439  ...  -32.630775  -33.701923  -29.989902   \n",
      "2   -20.187725 -14.887486 -19.348478  ...  -16.124378  -22.244461  -21.634094   \n",
      "3   -25.088573 -19.519186 -18.291294  ...  -12.507037  -18.366121  -17.716751   \n",
      "4   -20.167828 -16.280348  -15.20401  ...  -14.469836  -17.333067  -17.650236   \n",
      "..         ...        ...        ...  ...         ...         ...         ...   \n",
      "242        NaN        NaN        NaN  ...         NaN         NaN         NaN   \n",
      "243        NaN        NaN        NaN  ...         NaN         NaN         NaN   \n",
      "244        NaN        NaN        NaN  ...         NaN         NaN         NaN   \n",
      "245        NaN        NaN        NaN  ...         NaN         NaN         NaN   \n",
      "246        NaN        NaN        NaN  ...         NaN         NaN         NaN   \n",
      "\n",
      "    Feature_223 Feature_224 Feature_225 Feature_226 Feature_227 Feature_228  \\\n",
      "0         MFCCs       MFCCs       MFCCs       MFCCs       MFCCs       MFCCs   \n",
      "1    -33.393169  -30.737076   -30.85284  -31.597967  -32.203934  -31.991669   \n",
      "2    -25.171709  -24.320917  -18.847103  -16.616116  -18.460608  -15.626043   \n",
      "3    -21.965466  -20.232538  -14.758459  -12.345858  -13.384254  -11.568723   \n",
      "4    -17.458202  -15.739123  -16.505819  -14.036962  -14.174228  -13.248625   \n",
      "..          ...         ...         ...         ...         ...         ...   \n",
      "242         NaN         NaN         NaN         NaN         NaN         NaN   \n",
      "243         NaN         NaN         NaN         NaN         NaN         NaN   \n",
      "244         NaN         NaN         NaN         NaN         NaN         NaN   \n",
      "245         NaN         NaN         NaN         NaN         NaN         NaN   \n",
      "246         NaN         NaN         NaN         NaN         NaN         NaN   \n",
      "\n",
      "    Feature_229  \n",
      "0         MFCCs  \n",
      "1    -33.313667  \n",
      "2    -28.127085  \n",
      "3    -22.668053  \n",
      "4    -18.066122  \n",
      "..          ...  \n",
      "242         NaN  \n",
      "243         NaN  \n",
      "244         NaN  \n",
      "245         NaN  \n",
      "246         NaN  \n",
      "\n",
      "[247 rows x 230 columns]\n"
     ]
    }
   ],
   "source": [
    "# Transpose the DataFrame to swap rows and columns\n",
    "all_features = df_voice_recognition_features.transpose()\n",
    "\n",
    "# Reset the index\n",
    "all_features = all_features.reset_index()\n",
    "\n",
    "# Rename the columns for better clarity\n",
    "all_features.columns = [\"Voice\"] + [f\"Feature_{i+1}\" for i in range(all_features.shape[1]-1)]\n",
    "\n",
    "# Print the modified DataFrame\n",
    "print(all_features)"
   ],
   "metadata": {
    "collapsed": false,
    "ExecuteTime": {
     "end_time": "2024-01-03T18:03:41.057033Z",
     "start_time": "2024-01-03T18:03:41.036622100Z"
    }
   },
   "id": "6c5ef2dfc452bfef"
  },
  {
   "cell_type": "code",
   "execution_count": 114,
   "outputs": [],
   "source": [
    "X_train, X_test, y_train, y_test = train_test_split(all_features.iloc[:, 1:], all_features.iloc[:, 0], test_size=0.2, random_state=42)"
   ],
   "metadata": {
    "collapsed": false,
    "ExecuteTime": {
     "end_time": "2024-01-03T18:03:43.955690100Z",
     "start_time": "2024-01-03T18:03:43.941644800Z"
    }
   },
   "id": "47669b0475e25b3a"
  },
  {
   "cell_type": "code",
   "execution_count": 115,
   "outputs": [
    {
     "ename": "ValueError",
     "evalue": "could not convert string to float: 'MFCCs'",
     "output_type": "error",
     "traceback": [
      "\u001B[1;31m---------------------------------------------------------------------------\u001B[0m",
      "\u001B[1;31mValueError\u001B[0m                                Traceback (most recent call last)",
      "\u001B[1;32m~\\AppData\\Local\\Temp\\ipykernel_10488\\968578229.py\u001B[0m in \u001B[0;36m?\u001B[1;34m()\u001B[0m\n\u001B[0;32m      1\u001B[0m \u001B[1;31m# Initialize the SVM model\u001B[0m\u001B[1;33m\u001B[0m\u001B[1;33m\u001B[0m\u001B[0m\n\u001B[0;32m      2\u001B[0m \u001B[0msvm_model_speech\u001B[0m \u001B[1;33m=\u001B[0m \u001B[0mSVC\u001B[0m\u001B[1;33m(\u001B[0m\u001B[0mkernel\u001B[0m\u001B[1;33m=\u001B[0m\u001B[1;34m'linear'\u001B[0m\u001B[1;33m,\u001B[0m \u001B[0mC\u001B[0m\u001B[1;33m=\u001B[0m\u001B[1;36m10\u001B[0m\u001B[1;33m,\u001B[0m \u001B[0mgamma\u001B[0m\u001B[1;33m=\u001B[0m\u001B[1;36m0.1\u001B[0m\u001B[1;33m)\u001B[0m\u001B[1;33m\u001B[0m\u001B[1;33m\u001B[0m\u001B[0m\n\u001B[0;32m      3\u001B[0m \u001B[1;33m\u001B[0m\u001B[0m\n\u001B[0;32m      4\u001B[0m \u001B[1;31m# Train the SVM model\u001B[0m\u001B[1;33m\u001B[0m\u001B[1;33m\u001B[0m\u001B[0m\n\u001B[1;32m----> 5\u001B[1;33m \u001B[0msvm_model_speech\u001B[0m\u001B[1;33m.\u001B[0m\u001B[0mfit\u001B[0m\u001B[1;33m(\u001B[0m\u001B[0mX_train\u001B[0m\u001B[1;33m,\u001B[0m \u001B[0my_train\u001B[0m\u001B[1;33m)\u001B[0m\u001B[1;33m\u001B[0m\u001B[1;33m\u001B[0m\u001B[0m\n\u001B[0m\u001B[0;32m      6\u001B[0m \u001B[1;33m\u001B[0m\u001B[0m\n\u001B[0;32m      7\u001B[0m \u001B[1;33m\u001B[0m\u001B[0m\n",
      "\u001B[1;32mD:\\projects\\DSP\\Security_voice_code\\Security_Voice_Code\\venv\\Lib\\site-packages\\sklearn\\base.py\u001B[0m in \u001B[0;36m?\u001B[1;34m(estimator, *args, **kwargs)\u001B[0m\n\u001B[0;32m   1148\u001B[0m                 skip_parameter_validation=(\n\u001B[0;32m   1149\u001B[0m                     \u001B[0mprefer_skip_nested_validation\u001B[0m \u001B[1;32mor\u001B[0m \u001B[0mglobal_skip_validation\u001B[0m\u001B[1;33m\u001B[0m\u001B[1;33m\u001B[0m\u001B[0m\n\u001B[0;32m   1150\u001B[0m                 )\n\u001B[0;32m   1151\u001B[0m             ):\n\u001B[1;32m-> 1152\u001B[1;33m                 \u001B[1;32mreturn\u001B[0m \u001B[0mfit_method\u001B[0m\u001B[1;33m(\u001B[0m\u001B[0mestimator\u001B[0m\u001B[1;33m,\u001B[0m \u001B[1;33m*\u001B[0m\u001B[0margs\u001B[0m\u001B[1;33m,\u001B[0m \u001B[1;33m**\u001B[0m\u001B[0mkwargs\u001B[0m\u001B[1;33m)\u001B[0m\u001B[1;33m\u001B[0m\u001B[1;33m\u001B[0m\u001B[0m\n\u001B[0m",
      "\u001B[1;32mD:\\projects\\DSP\\Security_voice_code\\Security_Voice_Code\\venv\\Lib\\site-packages\\sklearn\\svm\\_base.py\u001B[0m in \u001B[0;36m?\u001B[1;34m(self, X, y, sample_weight)\u001B[0m\n\u001B[0;32m    186\u001B[0m \u001B[1;33m\u001B[0m\u001B[0m\n\u001B[0;32m    187\u001B[0m         \u001B[1;32mif\u001B[0m \u001B[0mcallable\u001B[0m\u001B[1;33m(\u001B[0m\u001B[0mself\u001B[0m\u001B[1;33m.\u001B[0m\u001B[0mkernel\u001B[0m\u001B[1;33m)\u001B[0m\u001B[1;33m:\u001B[0m\u001B[1;33m\u001B[0m\u001B[1;33m\u001B[0m\u001B[0m\n\u001B[0;32m    188\u001B[0m             \u001B[0mcheck_consistent_length\u001B[0m\u001B[1;33m(\u001B[0m\u001B[0mX\u001B[0m\u001B[1;33m,\u001B[0m \u001B[0my\u001B[0m\u001B[1;33m)\u001B[0m\u001B[1;33m\u001B[0m\u001B[1;33m\u001B[0m\u001B[0m\n\u001B[0;32m    189\u001B[0m         \u001B[1;32melse\u001B[0m\u001B[1;33m:\u001B[0m\u001B[1;33m\u001B[0m\u001B[1;33m\u001B[0m\u001B[0m\n\u001B[1;32m--> 190\u001B[1;33m             X, y = self._validate_data(\n\u001B[0m\u001B[0;32m    191\u001B[0m                 \u001B[0mX\u001B[0m\u001B[1;33m,\u001B[0m\u001B[1;33m\u001B[0m\u001B[1;33m\u001B[0m\u001B[0m\n\u001B[0;32m    192\u001B[0m                 \u001B[0my\u001B[0m\u001B[1;33m,\u001B[0m\u001B[1;33m\u001B[0m\u001B[1;33m\u001B[0m\u001B[0m\n\u001B[0;32m    193\u001B[0m                 \u001B[0mdtype\u001B[0m\u001B[1;33m=\u001B[0m\u001B[0mnp\u001B[0m\u001B[1;33m.\u001B[0m\u001B[0mfloat64\u001B[0m\u001B[1;33m,\u001B[0m\u001B[1;33m\u001B[0m\u001B[1;33m\u001B[0m\u001B[0m\n",
      "\u001B[1;32mD:\\projects\\DSP\\Security_voice_code\\Security_Voice_Code\\venv\\Lib\\site-packages\\sklearn\\base.py\u001B[0m in \u001B[0;36m?\u001B[1;34m(self, X, y, reset, validate_separately, cast_to_ndarray, **check_params)\u001B[0m\n\u001B[0;32m    618\u001B[0m                 \u001B[1;32mif\u001B[0m \u001B[1;34m\"estimator\"\u001B[0m \u001B[1;32mnot\u001B[0m \u001B[1;32min\u001B[0m \u001B[0mcheck_y_params\u001B[0m\u001B[1;33m:\u001B[0m\u001B[1;33m\u001B[0m\u001B[1;33m\u001B[0m\u001B[0m\n\u001B[0;32m    619\u001B[0m                     \u001B[0mcheck_y_params\u001B[0m \u001B[1;33m=\u001B[0m \u001B[1;33m{\u001B[0m\u001B[1;33m**\u001B[0m\u001B[0mdefault_check_params\u001B[0m\u001B[1;33m,\u001B[0m \u001B[1;33m**\u001B[0m\u001B[0mcheck_y_params\u001B[0m\u001B[1;33m}\u001B[0m\u001B[1;33m\u001B[0m\u001B[1;33m\u001B[0m\u001B[0m\n\u001B[0;32m    620\u001B[0m                 \u001B[0my\u001B[0m \u001B[1;33m=\u001B[0m \u001B[0mcheck_array\u001B[0m\u001B[1;33m(\u001B[0m\u001B[0my\u001B[0m\u001B[1;33m,\u001B[0m \u001B[0minput_name\u001B[0m\u001B[1;33m=\u001B[0m\u001B[1;34m\"y\"\u001B[0m\u001B[1;33m,\u001B[0m \u001B[1;33m**\u001B[0m\u001B[0mcheck_y_params\u001B[0m\u001B[1;33m)\u001B[0m\u001B[1;33m\u001B[0m\u001B[1;33m\u001B[0m\u001B[0m\n\u001B[0;32m    621\u001B[0m             \u001B[1;32melse\u001B[0m\u001B[1;33m:\u001B[0m\u001B[1;33m\u001B[0m\u001B[1;33m\u001B[0m\u001B[0m\n\u001B[1;32m--> 622\u001B[1;33m                 \u001B[0mX\u001B[0m\u001B[1;33m,\u001B[0m \u001B[0my\u001B[0m \u001B[1;33m=\u001B[0m \u001B[0mcheck_X_y\u001B[0m\u001B[1;33m(\u001B[0m\u001B[0mX\u001B[0m\u001B[1;33m,\u001B[0m \u001B[0my\u001B[0m\u001B[1;33m,\u001B[0m \u001B[1;33m**\u001B[0m\u001B[0mcheck_params\u001B[0m\u001B[1;33m)\u001B[0m\u001B[1;33m\u001B[0m\u001B[1;33m\u001B[0m\u001B[0m\n\u001B[0m\u001B[0;32m    623\u001B[0m             \u001B[0mout\u001B[0m \u001B[1;33m=\u001B[0m \u001B[0mX\u001B[0m\u001B[1;33m,\u001B[0m \u001B[0my\u001B[0m\u001B[1;33m\u001B[0m\u001B[1;33m\u001B[0m\u001B[0m\n\u001B[0;32m    624\u001B[0m \u001B[1;33m\u001B[0m\u001B[0m\n\u001B[0;32m    625\u001B[0m         \u001B[1;32mif\u001B[0m \u001B[1;32mnot\u001B[0m \u001B[0mno_val_X\u001B[0m \u001B[1;32mand\u001B[0m \u001B[0mcheck_params\u001B[0m\u001B[1;33m.\u001B[0m\u001B[0mget\u001B[0m\u001B[1;33m(\u001B[0m\u001B[1;34m\"ensure_2d\"\u001B[0m\u001B[1;33m,\u001B[0m \u001B[1;32mTrue\u001B[0m\u001B[1;33m)\u001B[0m\u001B[1;33m:\u001B[0m\u001B[1;33m\u001B[0m\u001B[1;33m\u001B[0m\u001B[0m\n",
      "\u001B[1;32mD:\\projects\\DSP\\Security_voice_code\\Security_Voice_Code\\venv\\Lib\\site-packages\\sklearn\\utils\\validation.py\u001B[0m in \u001B[0;36m?\u001B[1;34m(X, y, accept_sparse, accept_large_sparse, dtype, order, copy, force_all_finite, ensure_2d, allow_nd, multi_output, ensure_min_samples, ensure_min_features, y_numeric, estimator)\u001B[0m\n\u001B[0;32m   1142\u001B[0m         raise ValueError(\n\u001B[0;32m   1143\u001B[0m             \u001B[1;34mf\"{estimator_name} requires y to be passed, but the target y is None\"\u001B[0m\u001B[1;33m\u001B[0m\u001B[1;33m\u001B[0m\u001B[0m\n\u001B[0;32m   1144\u001B[0m         )\n\u001B[0;32m   1145\u001B[0m \u001B[1;33m\u001B[0m\u001B[0m\n\u001B[1;32m-> 1146\u001B[1;33m     X = check_array(\n\u001B[0m\u001B[0;32m   1147\u001B[0m         \u001B[0mX\u001B[0m\u001B[1;33m,\u001B[0m\u001B[1;33m\u001B[0m\u001B[1;33m\u001B[0m\u001B[0m\n\u001B[0;32m   1148\u001B[0m         \u001B[0maccept_sparse\u001B[0m\u001B[1;33m=\u001B[0m\u001B[0maccept_sparse\u001B[0m\u001B[1;33m,\u001B[0m\u001B[1;33m\u001B[0m\u001B[1;33m\u001B[0m\u001B[0m\n\u001B[0;32m   1149\u001B[0m         \u001B[0maccept_large_sparse\u001B[0m\u001B[1;33m=\u001B[0m\u001B[0maccept_large_sparse\u001B[0m\u001B[1;33m,\u001B[0m\u001B[1;33m\u001B[0m\u001B[1;33m\u001B[0m\u001B[0m\n",
      "\u001B[1;32mD:\\projects\\DSP\\Security_voice_code\\Security_Voice_Code\\venv\\Lib\\site-packages\\sklearn\\utils\\validation.py\u001B[0m in \u001B[0;36m?\u001B[1;34m(array, accept_sparse, accept_large_sparse, dtype, order, copy, force_all_finite, ensure_2d, allow_nd, ensure_min_samples, ensure_min_features, estimator, input_name)\u001B[0m\n\u001B[0;32m    912\u001B[0m                         )\n\u001B[0;32m    913\u001B[0m                     \u001B[0marray\u001B[0m \u001B[1;33m=\u001B[0m \u001B[0mxp\u001B[0m\u001B[1;33m.\u001B[0m\u001B[0mastype\u001B[0m\u001B[1;33m(\u001B[0m\u001B[0marray\u001B[0m\u001B[1;33m,\u001B[0m \u001B[0mdtype\u001B[0m\u001B[1;33m,\u001B[0m \u001B[0mcopy\u001B[0m\u001B[1;33m=\u001B[0m\u001B[1;32mFalse\u001B[0m\u001B[1;33m)\u001B[0m\u001B[1;33m\u001B[0m\u001B[1;33m\u001B[0m\u001B[0m\n\u001B[0;32m    914\u001B[0m                 \u001B[1;32melse\u001B[0m\u001B[1;33m:\u001B[0m\u001B[1;33m\u001B[0m\u001B[1;33m\u001B[0m\u001B[0m\n\u001B[0;32m    915\u001B[0m                     \u001B[0marray\u001B[0m \u001B[1;33m=\u001B[0m \u001B[0m_asarray_with_order\u001B[0m\u001B[1;33m(\u001B[0m\u001B[0marray\u001B[0m\u001B[1;33m,\u001B[0m \u001B[0morder\u001B[0m\u001B[1;33m=\u001B[0m\u001B[0morder\u001B[0m\u001B[1;33m,\u001B[0m \u001B[0mdtype\u001B[0m\u001B[1;33m=\u001B[0m\u001B[0mdtype\u001B[0m\u001B[1;33m,\u001B[0m \u001B[0mxp\u001B[0m\u001B[1;33m=\u001B[0m\u001B[0mxp\u001B[0m\u001B[1;33m)\u001B[0m\u001B[1;33m\u001B[0m\u001B[1;33m\u001B[0m\u001B[0m\n\u001B[1;32m--> 916\u001B[1;33m             \u001B[1;32mexcept\u001B[0m \u001B[0mComplexWarning\u001B[0m \u001B[1;32mas\u001B[0m \u001B[0mcomplex_warning\u001B[0m\u001B[1;33m:\u001B[0m\u001B[1;33m\u001B[0m\u001B[1;33m\u001B[0m\u001B[0m\n\u001B[0m\u001B[0;32m    917\u001B[0m                 raise ValueError(\n\u001B[0;32m    918\u001B[0m                     \u001B[1;34m\"Complex data not supported\\n{}\\n\"\u001B[0m\u001B[1;33m.\u001B[0m\u001B[0mformat\u001B[0m\u001B[1;33m(\u001B[0m\u001B[0marray\u001B[0m\u001B[1;33m)\u001B[0m\u001B[1;33m\u001B[0m\u001B[1;33m\u001B[0m\u001B[0m\n\u001B[0;32m    919\u001B[0m                 ) from complex_warning\n",
      "\u001B[1;32mD:\\projects\\DSP\\Security_voice_code\\Security_Voice_Code\\venv\\Lib\\site-packages\\sklearn\\utils\\_array_api.py\u001B[0m in \u001B[0;36m?\u001B[1;34m(array, dtype, order, copy, xp)\u001B[0m\n\u001B[0;32m    376\u001B[0m         \u001B[1;31m# Use NumPy API to support order\u001B[0m\u001B[1;33m\u001B[0m\u001B[1;33m\u001B[0m\u001B[0m\n\u001B[0;32m    377\u001B[0m         \u001B[1;32mif\u001B[0m \u001B[0mcopy\u001B[0m \u001B[1;32mis\u001B[0m \u001B[1;32mTrue\u001B[0m\u001B[1;33m:\u001B[0m\u001B[1;33m\u001B[0m\u001B[1;33m\u001B[0m\u001B[0m\n\u001B[0;32m    378\u001B[0m             \u001B[0marray\u001B[0m \u001B[1;33m=\u001B[0m \u001B[0mnumpy\u001B[0m\u001B[1;33m.\u001B[0m\u001B[0marray\u001B[0m\u001B[1;33m(\u001B[0m\u001B[0marray\u001B[0m\u001B[1;33m,\u001B[0m \u001B[0morder\u001B[0m\u001B[1;33m=\u001B[0m\u001B[0morder\u001B[0m\u001B[1;33m,\u001B[0m \u001B[0mdtype\u001B[0m\u001B[1;33m=\u001B[0m\u001B[0mdtype\u001B[0m\u001B[1;33m)\u001B[0m\u001B[1;33m\u001B[0m\u001B[1;33m\u001B[0m\u001B[0m\n\u001B[0;32m    379\u001B[0m         \u001B[1;32melse\u001B[0m\u001B[1;33m:\u001B[0m\u001B[1;33m\u001B[0m\u001B[1;33m\u001B[0m\u001B[0m\n\u001B[1;32m--> 380\u001B[1;33m             \u001B[0marray\u001B[0m \u001B[1;33m=\u001B[0m \u001B[0mnumpy\u001B[0m\u001B[1;33m.\u001B[0m\u001B[0masarray\u001B[0m\u001B[1;33m(\u001B[0m\u001B[0marray\u001B[0m\u001B[1;33m,\u001B[0m \u001B[0morder\u001B[0m\u001B[1;33m=\u001B[0m\u001B[0morder\u001B[0m\u001B[1;33m,\u001B[0m \u001B[0mdtype\u001B[0m\u001B[1;33m=\u001B[0m\u001B[0mdtype\u001B[0m\u001B[1;33m)\u001B[0m\u001B[1;33m\u001B[0m\u001B[1;33m\u001B[0m\u001B[0m\n\u001B[0m\u001B[0;32m    381\u001B[0m \u001B[1;33m\u001B[0m\u001B[0m\n\u001B[0;32m    382\u001B[0m         \u001B[1;31m# At this point array is a NumPy ndarray. We convert it to an array\u001B[0m\u001B[1;33m\u001B[0m\u001B[1;33m\u001B[0m\u001B[0m\n\u001B[0;32m    383\u001B[0m         \u001B[1;31m# container that is consistent with the input's namespace.\u001B[0m\u001B[1;33m\u001B[0m\u001B[1;33m\u001B[0m\u001B[0m\n",
      "\u001B[1;32mC:\\Python311\\Lib\\site-packages\\pandas\\core\\generic.py\u001B[0m in \u001B[0;36m?\u001B[1;34m(self, dtype)\u001B[0m\n\u001B[0;32m   2082\u001B[0m     \u001B[1;32mdef\u001B[0m \u001B[0m__array__\u001B[0m\u001B[1;33m(\u001B[0m\u001B[0mself\u001B[0m\u001B[1;33m,\u001B[0m \u001B[0mdtype\u001B[0m\u001B[1;33m:\u001B[0m \u001B[0mnpt\u001B[0m\u001B[1;33m.\u001B[0m\u001B[0mDTypeLike\u001B[0m \u001B[1;33m|\u001B[0m \u001B[1;32mNone\u001B[0m \u001B[1;33m=\u001B[0m \u001B[1;32mNone\u001B[0m\u001B[1;33m)\u001B[0m \u001B[1;33m->\u001B[0m \u001B[0mnp\u001B[0m\u001B[1;33m.\u001B[0m\u001B[0mndarray\u001B[0m\u001B[1;33m:\u001B[0m\u001B[1;33m\u001B[0m\u001B[1;33m\u001B[0m\u001B[0m\n\u001B[0;32m   2083\u001B[0m         \u001B[0mvalues\u001B[0m \u001B[1;33m=\u001B[0m \u001B[0mself\u001B[0m\u001B[1;33m.\u001B[0m\u001B[0m_values\u001B[0m\u001B[1;33m\u001B[0m\u001B[1;33m\u001B[0m\u001B[0m\n\u001B[1;32m-> 2084\u001B[1;33m         \u001B[0marr\u001B[0m \u001B[1;33m=\u001B[0m \u001B[0mnp\u001B[0m\u001B[1;33m.\u001B[0m\u001B[0masarray\u001B[0m\u001B[1;33m(\u001B[0m\u001B[0mvalues\u001B[0m\u001B[1;33m,\u001B[0m \u001B[0mdtype\u001B[0m\u001B[1;33m=\u001B[0m\u001B[0mdtype\u001B[0m\u001B[1;33m)\u001B[0m\u001B[1;33m\u001B[0m\u001B[1;33m\u001B[0m\u001B[0m\n\u001B[0m\u001B[0;32m   2085\u001B[0m         if (\n\u001B[0;32m   2086\u001B[0m             \u001B[0mastype_is_view\u001B[0m\u001B[1;33m(\u001B[0m\u001B[0mvalues\u001B[0m\u001B[1;33m.\u001B[0m\u001B[0mdtype\u001B[0m\u001B[1;33m,\u001B[0m \u001B[0marr\u001B[0m\u001B[1;33m.\u001B[0m\u001B[0mdtype\u001B[0m\u001B[1;33m)\u001B[0m\u001B[1;33m\u001B[0m\u001B[1;33m\u001B[0m\u001B[0m\n\u001B[0;32m   2087\u001B[0m             \u001B[1;32mand\u001B[0m \u001B[0musing_copy_on_write\u001B[0m\u001B[1;33m(\u001B[0m\u001B[1;33m)\u001B[0m\u001B[1;33m\u001B[0m\u001B[1;33m\u001B[0m\u001B[0m\n",
      "\u001B[1;31mValueError\u001B[0m: could not convert string to float: 'MFCCs'"
     ]
    }
   ],
   "source": [
    "# Initialize the SVM model\n",
    "svm_model_speech = SVC(kernel='linear', C=10, gamma=0.1)\n",
    "\n",
    "# Train the SVM model\n",
    "svm_model_speech.fit(X_train, y_train)\n",
    "\n"
   ],
   "metadata": {
    "collapsed": false,
    "ExecuteTime": {
     "end_time": "2024-01-03T18:03:44.732339700Z",
     "start_time": "2024-01-03T18:03:44.701090200Z"
    }
   },
   "id": "e688b3c443883b09"
  },
  {
   "cell_type": "code",
   "execution_count": 106,
   "outputs": [
    {
     "ename": "ValueError",
     "evalue": "Input X contains NaN.\nSVC does not accept missing values encoded as NaN natively. For supervised learning, you might want to consider sklearn.ensemble.HistGradientBoostingClassifier and Regressor which accept missing values encoded as NaNs natively. Alternatively, it is possible to preprocess the data, for instance by using an imputer transformer in a pipeline or drop samples with missing values. See https://scikit-learn.org/stable/modules/impute.html You can find a list of all estimators that handle NaN values at the following page: https://scikit-learn.org/stable/modules/impute.html#estimators-that-handle-nan-values",
     "output_type": "error",
     "traceback": [
      "\u001B[1;31m---------------------------------------------------------------------------\u001B[0m",
      "\u001B[1;31mValueError\u001B[0m                                Traceback (most recent call last)",
      "Cell \u001B[1;32mIn[106], line 2\u001B[0m\n\u001B[0;32m      1\u001B[0m \u001B[38;5;66;03m# Make predictions on the test set\u001B[39;00m\n\u001B[1;32m----> 2\u001B[0m predictions \u001B[38;5;241m=\u001B[39m \u001B[43msvm_model_speech\u001B[49m\u001B[38;5;241;43m.\u001B[39;49m\u001B[43mpredict\u001B[49m\u001B[43m(\u001B[49m\u001B[43mX_test\u001B[49m\u001B[43m)\u001B[49m\n",
      "File \u001B[1;32mD:\\projects\\DSP\\Security_voice_code\\Security_Voice_Code\\venv\\Lib\\site-packages\\sklearn\\svm\\_base.py:818\u001B[0m, in \u001B[0;36mBaseSVC.predict\u001B[1;34m(self, X)\u001B[0m\n\u001B[0;32m    816\u001B[0m     y \u001B[38;5;241m=\u001B[39m np\u001B[38;5;241m.\u001B[39margmax(\u001B[38;5;28mself\u001B[39m\u001B[38;5;241m.\u001B[39mdecision_function(X), axis\u001B[38;5;241m=\u001B[39m\u001B[38;5;241m1\u001B[39m)\n\u001B[0;32m    817\u001B[0m \u001B[38;5;28;01melse\u001B[39;00m:\n\u001B[1;32m--> 818\u001B[0m     y \u001B[38;5;241m=\u001B[39m \u001B[38;5;28;43msuper\u001B[39;49m\u001B[43m(\u001B[49m\u001B[43m)\u001B[49m\u001B[38;5;241;43m.\u001B[39;49m\u001B[43mpredict\u001B[49m\u001B[43m(\u001B[49m\u001B[43mX\u001B[49m\u001B[43m)\u001B[49m\n\u001B[0;32m    819\u001B[0m \u001B[38;5;28;01mreturn\u001B[39;00m \u001B[38;5;28mself\u001B[39m\u001B[38;5;241m.\u001B[39mclasses_\u001B[38;5;241m.\u001B[39mtake(np\u001B[38;5;241m.\u001B[39masarray(y, dtype\u001B[38;5;241m=\u001B[39mnp\u001B[38;5;241m.\u001B[39mintp))\n",
      "File \u001B[1;32mD:\\projects\\DSP\\Security_voice_code\\Security_Voice_Code\\venv\\Lib\\site-packages\\sklearn\\svm\\_base.py:431\u001B[0m, in \u001B[0;36mBaseLibSVM.predict\u001B[1;34m(self, X)\u001B[0m\n\u001B[0;32m    415\u001B[0m \u001B[38;5;28;01mdef\u001B[39;00m \u001B[38;5;21mpredict\u001B[39m(\u001B[38;5;28mself\u001B[39m, X):\n\u001B[0;32m    416\u001B[0m \u001B[38;5;250m    \u001B[39m\u001B[38;5;124;03m\"\"\"Perform regression on samples in X.\u001B[39;00m\n\u001B[0;32m    417\u001B[0m \n\u001B[0;32m    418\u001B[0m \u001B[38;5;124;03m    For an one-class model, +1 (inlier) or -1 (outlier) is returned.\u001B[39;00m\n\u001B[1;32m   (...)\u001B[0m\n\u001B[0;32m    429\u001B[0m \u001B[38;5;124;03m        The predicted values.\u001B[39;00m\n\u001B[0;32m    430\u001B[0m \u001B[38;5;124;03m    \"\"\"\u001B[39;00m\n\u001B[1;32m--> 431\u001B[0m     X \u001B[38;5;241m=\u001B[39m \u001B[38;5;28;43mself\u001B[39;49m\u001B[38;5;241;43m.\u001B[39;49m\u001B[43m_validate_for_predict\u001B[49m\u001B[43m(\u001B[49m\u001B[43mX\u001B[49m\u001B[43m)\u001B[49m\n\u001B[0;32m    432\u001B[0m     predict \u001B[38;5;241m=\u001B[39m \u001B[38;5;28mself\u001B[39m\u001B[38;5;241m.\u001B[39m_sparse_predict \u001B[38;5;28;01mif\u001B[39;00m \u001B[38;5;28mself\u001B[39m\u001B[38;5;241m.\u001B[39m_sparse \u001B[38;5;28;01melse\u001B[39;00m \u001B[38;5;28mself\u001B[39m\u001B[38;5;241m.\u001B[39m_dense_predict\n\u001B[0;32m    433\u001B[0m     \u001B[38;5;28;01mreturn\u001B[39;00m predict(X)\n",
      "File \u001B[1;32mD:\\projects\\DSP\\Security_voice_code\\Security_Voice_Code\\venv\\Lib\\site-packages\\sklearn\\svm\\_base.py:611\u001B[0m, in \u001B[0;36mBaseLibSVM._validate_for_predict\u001B[1;34m(self, X)\u001B[0m\n\u001B[0;32m    608\u001B[0m check_is_fitted(\u001B[38;5;28mself\u001B[39m)\n\u001B[0;32m    610\u001B[0m \u001B[38;5;28;01mif\u001B[39;00m \u001B[38;5;129;01mnot\u001B[39;00m \u001B[38;5;28mcallable\u001B[39m(\u001B[38;5;28mself\u001B[39m\u001B[38;5;241m.\u001B[39mkernel):\n\u001B[1;32m--> 611\u001B[0m     X \u001B[38;5;241m=\u001B[39m \u001B[38;5;28;43mself\u001B[39;49m\u001B[38;5;241;43m.\u001B[39;49m\u001B[43m_validate_data\u001B[49m\u001B[43m(\u001B[49m\n\u001B[0;32m    612\u001B[0m \u001B[43m        \u001B[49m\u001B[43mX\u001B[49m\u001B[43m,\u001B[49m\n\u001B[0;32m    613\u001B[0m \u001B[43m        \u001B[49m\u001B[43maccept_sparse\u001B[49m\u001B[38;5;241;43m=\u001B[39;49m\u001B[38;5;124;43m\"\u001B[39;49m\u001B[38;5;124;43mcsr\u001B[39;49m\u001B[38;5;124;43m\"\u001B[39;49m\u001B[43m,\u001B[49m\n\u001B[0;32m    614\u001B[0m \u001B[43m        \u001B[49m\u001B[43mdtype\u001B[49m\u001B[38;5;241;43m=\u001B[39;49m\u001B[43mnp\u001B[49m\u001B[38;5;241;43m.\u001B[39;49m\u001B[43mfloat64\u001B[49m\u001B[43m,\u001B[49m\n\u001B[0;32m    615\u001B[0m \u001B[43m        \u001B[49m\u001B[43morder\u001B[49m\u001B[38;5;241;43m=\u001B[39;49m\u001B[38;5;124;43m\"\u001B[39;49m\u001B[38;5;124;43mC\u001B[39;49m\u001B[38;5;124;43m\"\u001B[39;49m\u001B[43m,\u001B[49m\n\u001B[0;32m    616\u001B[0m \u001B[43m        \u001B[49m\u001B[43maccept_large_sparse\u001B[49m\u001B[38;5;241;43m=\u001B[39;49m\u001B[38;5;28;43;01mFalse\u001B[39;49;00m\u001B[43m,\u001B[49m\n\u001B[0;32m    617\u001B[0m \u001B[43m        \u001B[49m\u001B[43mreset\u001B[49m\u001B[38;5;241;43m=\u001B[39;49m\u001B[38;5;28;43;01mFalse\u001B[39;49;00m\u001B[43m,\u001B[49m\n\u001B[0;32m    618\u001B[0m \u001B[43m    \u001B[49m\u001B[43m)\u001B[49m\n\u001B[0;32m    620\u001B[0m \u001B[38;5;28;01mif\u001B[39;00m \u001B[38;5;28mself\u001B[39m\u001B[38;5;241m.\u001B[39m_sparse \u001B[38;5;129;01mand\u001B[39;00m \u001B[38;5;129;01mnot\u001B[39;00m sp\u001B[38;5;241m.\u001B[39missparse(X):\n\u001B[0;32m    621\u001B[0m     X \u001B[38;5;241m=\u001B[39m sp\u001B[38;5;241m.\u001B[39mcsr_matrix(X)\n",
      "File \u001B[1;32mD:\\projects\\DSP\\Security_voice_code\\Security_Voice_Code\\venv\\Lib\\site-packages\\sklearn\\base.py:605\u001B[0m, in \u001B[0;36mBaseEstimator._validate_data\u001B[1;34m(self, X, y, reset, validate_separately, cast_to_ndarray, **check_params)\u001B[0m\n\u001B[0;32m    603\u001B[0m         out \u001B[38;5;241m=\u001B[39m X, y\n\u001B[0;32m    604\u001B[0m \u001B[38;5;28;01melif\u001B[39;00m \u001B[38;5;129;01mnot\u001B[39;00m no_val_X \u001B[38;5;129;01mand\u001B[39;00m no_val_y:\n\u001B[1;32m--> 605\u001B[0m     out \u001B[38;5;241m=\u001B[39m \u001B[43mcheck_array\u001B[49m\u001B[43m(\u001B[49m\u001B[43mX\u001B[49m\u001B[43m,\u001B[49m\u001B[43m \u001B[49m\u001B[43minput_name\u001B[49m\u001B[38;5;241;43m=\u001B[39;49m\u001B[38;5;124;43m\"\u001B[39;49m\u001B[38;5;124;43mX\u001B[39;49m\u001B[38;5;124;43m\"\u001B[39;49m\u001B[43m,\u001B[49m\u001B[43m \u001B[49m\u001B[38;5;241;43m*\u001B[39;49m\u001B[38;5;241;43m*\u001B[39;49m\u001B[43mcheck_params\u001B[49m\u001B[43m)\u001B[49m\n\u001B[0;32m    606\u001B[0m \u001B[38;5;28;01melif\u001B[39;00m no_val_X \u001B[38;5;129;01mand\u001B[39;00m \u001B[38;5;129;01mnot\u001B[39;00m no_val_y:\n\u001B[0;32m    607\u001B[0m     out \u001B[38;5;241m=\u001B[39m _check_y(y, \u001B[38;5;241m*\u001B[39m\u001B[38;5;241m*\u001B[39mcheck_params)\n",
      "File \u001B[1;32mD:\\projects\\DSP\\Security_voice_code\\Security_Voice_Code\\venv\\Lib\\site-packages\\sklearn\\utils\\validation.py:957\u001B[0m, in \u001B[0;36mcheck_array\u001B[1;34m(array, accept_sparse, accept_large_sparse, dtype, order, copy, force_all_finite, ensure_2d, allow_nd, ensure_min_samples, ensure_min_features, estimator, input_name)\u001B[0m\n\u001B[0;32m    951\u001B[0m         \u001B[38;5;28;01mraise\u001B[39;00m \u001B[38;5;167;01mValueError\u001B[39;00m(\n\u001B[0;32m    952\u001B[0m             \u001B[38;5;124m\"\u001B[39m\u001B[38;5;124mFound array with dim \u001B[39m\u001B[38;5;132;01m%d\u001B[39;00m\u001B[38;5;124m. \u001B[39m\u001B[38;5;132;01m%s\u001B[39;00m\u001B[38;5;124m expected <= 2.\u001B[39m\u001B[38;5;124m\"\u001B[39m\n\u001B[0;32m    953\u001B[0m             \u001B[38;5;241m%\u001B[39m (array\u001B[38;5;241m.\u001B[39mndim, estimator_name)\n\u001B[0;32m    954\u001B[0m         )\n\u001B[0;32m    956\u001B[0m     \u001B[38;5;28;01mif\u001B[39;00m force_all_finite:\n\u001B[1;32m--> 957\u001B[0m         \u001B[43m_assert_all_finite\u001B[49m\u001B[43m(\u001B[49m\n\u001B[0;32m    958\u001B[0m \u001B[43m            \u001B[49m\u001B[43marray\u001B[49m\u001B[43m,\u001B[49m\n\u001B[0;32m    959\u001B[0m \u001B[43m            \u001B[49m\u001B[43minput_name\u001B[49m\u001B[38;5;241;43m=\u001B[39;49m\u001B[43minput_name\u001B[49m\u001B[43m,\u001B[49m\n\u001B[0;32m    960\u001B[0m \u001B[43m            \u001B[49m\u001B[43mestimator_name\u001B[49m\u001B[38;5;241;43m=\u001B[39;49m\u001B[43mestimator_name\u001B[49m\u001B[43m,\u001B[49m\n\u001B[0;32m    961\u001B[0m \u001B[43m            \u001B[49m\u001B[43mallow_nan\u001B[49m\u001B[38;5;241;43m=\u001B[39;49m\u001B[43mforce_all_finite\u001B[49m\u001B[43m \u001B[49m\u001B[38;5;241;43m==\u001B[39;49m\u001B[43m \u001B[49m\u001B[38;5;124;43m\"\u001B[39;49m\u001B[38;5;124;43mallow-nan\u001B[39;49m\u001B[38;5;124;43m\"\u001B[39;49m\u001B[43m,\u001B[49m\n\u001B[0;32m    962\u001B[0m \u001B[43m        \u001B[49m\u001B[43m)\u001B[49m\n\u001B[0;32m    964\u001B[0m \u001B[38;5;28;01mif\u001B[39;00m ensure_min_samples \u001B[38;5;241m>\u001B[39m \u001B[38;5;241m0\u001B[39m:\n\u001B[0;32m    965\u001B[0m     n_samples \u001B[38;5;241m=\u001B[39m _num_samples(array)\n",
      "File \u001B[1;32mD:\\projects\\DSP\\Security_voice_code\\Security_Voice_Code\\venv\\Lib\\site-packages\\sklearn\\utils\\validation.py:122\u001B[0m, in \u001B[0;36m_assert_all_finite\u001B[1;34m(X, allow_nan, msg_dtype, estimator_name, input_name)\u001B[0m\n\u001B[0;32m    119\u001B[0m \u001B[38;5;28;01mif\u001B[39;00m first_pass_isfinite:\n\u001B[0;32m    120\u001B[0m     \u001B[38;5;28;01mreturn\u001B[39;00m\n\u001B[1;32m--> 122\u001B[0m \u001B[43m_assert_all_finite_element_wise\u001B[49m\u001B[43m(\u001B[49m\n\u001B[0;32m    123\u001B[0m \u001B[43m    \u001B[49m\u001B[43mX\u001B[49m\u001B[43m,\u001B[49m\n\u001B[0;32m    124\u001B[0m \u001B[43m    \u001B[49m\u001B[43mxp\u001B[49m\u001B[38;5;241;43m=\u001B[39;49m\u001B[43mxp\u001B[49m\u001B[43m,\u001B[49m\n\u001B[0;32m    125\u001B[0m \u001B[43m    \u001B[49m\u001B[43mallow_nan\u001B[49m\u001B[38;5;241;43m=\u001B[39;49m\u001B[43mallow_nan\u001B[49m\u001B[43m,\u001B[49m\n\u001B[0;32m    126\u001B[0m \u001B[43m    \u001B[49m\u001B[43mmsg_dtype\u001B[49m\u001B[38;5;241;43m=\u001B[39;49m\u001B[43mmsg_dtype\u001B[49m\u001B[43m,\u001B[49m\n\u001B[0;32m    127\u001B[0m \u001B[43m    \u001B[49m\u001B[43mestimator_name\u001B[49m\u001B[38;5;241;43m=\u001B[39;49m\u001B[43mestimator_name\u001B[49m\u001B[43m,\u001B[49m\n\u001B[0;32m    128\u001B[0m \u001B[43m    \u001B[49m\u001B[43minput_name\u001B[49m\u001B[38;5;241;43m=\u001B[39;49m\u001B[43minput_name\u001B[49m\u001B[43m,\u001B[49m\n\u001B[0;32m    129\u001B[0m \u001B[43m\u001B[49m\u001B[43m)\u001B[49m\n",
      "File \u001B[1;32mD:\\projects\\DSP\\Security_voice_code\\Security_Voice_Code\\venv\\Lib\\site-packages\\sklearn\\utils\\validation.py:171\u001B[0m, in \u001B[0;36m_assert_all_finite_element_wise\u001B[1;34m(X, xp, allow_nan, msg_dtype, estimator_name, input_name)\u001B[0m\n\u001B[0;32m    154\u001B[0m \u001B[38;5;28;01mif\u001B[39;00m estimator_name \u001B[38;5;129;01mand\u001B[39;00m input_name \u001B[38;5;241m==\u001B[39m \u001B[38;5;124m\"\u001B[39m\u001B[38;5;124mX\u001B[39m\u001B[38;5;124m\"\u001B[39m \u001B[38;5;129;01mand\u001B[39;00m has_nan_error:\n\u001B[0;32m    155\u001B[0m     \u001B[38;5;66;03m# Improve the error message on how to handle missing values in\u001B[39;00m\n\u001B[0;32m    156\u001B[0m     \u001B[38;5;66;03m# scikit-learn.\u001B[39;00m\n\u001B[0;32m    157\u001B[0m     msg_err \u001B[38;5;241m+\u001B[39m\u001B[38;5;241m=\u001B[39m (\n\u001B[0;32m    158\u001B[0m         \u001B[38;5;124mf\u001B[39m\u001B[38;5;124m\"\u001B[39m\u001B[38;5;130;01m\\n\u001B[39;00m\u001B[38;5;132;01m{\u001B[39;00mestimator_name\u001B[38;5;132;01m}\u001B[39;00m\u001B[38;5;124m does not accept missing values\u001B[39m\u001B[38;5;124m\"\u001B[39m\n\u001B[0;32m    159\u001B[0m         \u001B[38;5;124m\"\u001B[39m\u001B[38;5;124m encoded as NaN natively. For supervised learning, you might want\u001B[39m\u001B[38;5;124m\"\u001B[39m\n\u001B[1;32m   (...)\u001B[0m\n\u001B[0;32m    169\u001B[0m         \u001B[38;5;124m\"\u001B[39m\u001B[38;5;124m#estimators-that-handle-nan-values\u001B[39m\u001B[38;5;124m\"\u001B[39m\n\u001B[0;32m    170\u001B[0m     )\n\u001B[1;32m--> 171\u001B[0m \u001B[38;5;28;01mraise\u001B[39;00m \u001B[38;5;167;01mValueError\u001B[39;00m(msg_err)\n",
      "\u001B[1;31mValueError\u001B[0m: Input X contains NaN.\nSVC does not accept missing values encoded as NaN natively. For supervised learning, you might want to consider sklearn.ensemble.HistGradientBoostingClassifier and Regressor which accept missing values encoded as NaNs natively. Alternatively, it is possible to preprocess the data, for instance by using an imputer transformer in a pipeline or drop samples with missing values. See https://scikit-learn.org/stable/modules/impute.html You can find a list of all estimators that handle NaN values at the following page: https://scikit-learn.org/stable/modules/impute.html#estimators-that-handle-nan-values"
     ]
    }
   ],
   "source": [
    "# Make predictions on the test set\n",
    "predictions = svm_model_speech.predict(X_test)\n",
    "\n"
   ],
   "metadata": {
    "collapsed": false,
    "ExecuteTime": {
     "end_time": "2024-01-03T18:00:12.774147700Z",
     "start_time": "2024-01-03T18:00:12.433684200Z"
    }
   },
   "id": "6ec850ae514a4d80"
  },
  {
   "cell_type": "code",
   "execution_count": 107,
   "outputs": [
    {
     "ename": "ValueError",
     "evalue": "Found input variables with inconsistent numbers of samples: [50, 2]",
     "output_type": "error",
     "traceback": [
      "\u001B[1;31m---------------------------------------------------------------------------\u001B[0m",
      "\u001B[1;31mValueError\u001B[0m                                Traceback (most recent call last)",
      "Cell \u001B[1;32mIn[107], line 2\u001B[0m\n\u001B[0;32m      1\u001B[0m \u001B[38;5;66;03m# Evaluate the performance of the model\u001B[39;00m\n\u001B[1;32m----> 2\u001B[0m accuracy \u001B[38;5;241m=\u001B[39m \u001B[43maccuracy_score\u001B[49m\u001B[43m(\u001B[49m\u001B[43my_test\u001B[49m\u001B[43m,\u001B[49m\u001B[43m \u001B[49m\u001B[43mpredictions\u001B[49m\u001B[43m)\u001B[49m\n\u001B[0;32m      3\u001B[0m classification_rep \u001B[38;5;241m=\u001B[39m classification_report(y_test, predictions, zero_division\u001B[38;5;241m=\u001B[39m\u001B[38;5;241m0\u001B[39m)\n\u001B[0;32m      4\u001B[0m \u001B[38;5;66;03m# Print the results\u001B[39;00m\n",
      "File \u001B[1;32mD:\\projects\\DSP\\Security_voice_code\\Security_Voice_Code\\venv\\Lib\\site-packages\\sklearn\\utils\\_param_validation.py:214\u001B[0m, in \u001B[0;36mvalidate_params.<locals>.decorator.<locals>.wrapper\u001B[1;34m(*args, **kwargs)\u001B[0m\n\u001B[0;32m    208\u001B[0m \u001B[38;5;28;01mtry\u001B[39;00m:\n\u001B[0;32m    209\u001B[0m     \u001B[38;5;28;01mwith\u001B[39;00m config_context(\n\u001B[0;32m    210\u001B[0m         skip_parameter_validation\u001B[38;5;241m=\u001B[39m(\n\u001B[0;32m    211\u001B[0m             prefer_skip_nested_validation \u001B[38;5;129;01mor\u001B[39;00m global_skip_validation\n\u001B[0;32m    212\u001B[0m         )\n\u001B[0;32m    213\u001B[0m     ):\n\u001B[1;32m--> 214\u001B[0m         \u001B[38;5;28;01mreturn\u001B[39;00m \u001B[43mfunc\u001B[49m\u001B[43m(\u001B[49m\u001B[38;5;241;43m*\u001B[39;49m\u001B[43margs\u001B[49m\u001B[43m,\u001B[49m\u001B[43m \u001B[49m\u001B[38;5;241;43m*\u001B[39;49m\u001B[38;5;241;43m*\u001B[39;49m\u001B[43mkwargs\u001B[49m\u001B[43m)\u001B[49m\n\u001B[0;32m    215\u001B[0m \u001B[38;5;28;01mexcept\u001B[39;00m InvalidParameterError \u001B[38;5;28;01mas\u001B[39;00m e:\n\u001B[0;32m    216\u001B[0m     \u001B[38;5;66;03m# When the function is just a wrapper around an estimator, we allow\u001B[39;00m\n\u001B[0;32m    217\u001B[0m     \u001B[38;5;66;03m# the function to delegate validation to the estimator, but we replace\u001B[39;00m\n\u001B[0;32m    218\u001B[0m     \u001B[38;5;66;03m# the name of the estimator by the name of the function in the error\u001B[39;00m\n\u001B[0;32m    219\u001B[0m     \u001B[38;5;66;03m# message to avoid confusion.\u001B[39;00m\n\u001B[0;32m    220\u001B[0m     msg \u001B[38;5;241m=\u001B[39m re\u001B[38;5;241m.\u001B[39msub(\n\u001B[0;32m    221\u001B[0m         \u001B[38;5;124mr\u001B[39m\u001B[38;5;124m\"\u001B[39m\u001B[38;5;124mparameter of \u001B[39m\u001B[38;5;124m\\\u001B[39m\u001B[38;5;124mw+ must be\u001B[39m\u001B[38;5;124m\"\u001B[39m,\n\u001B[0;32m    222\u001B[0m         \u001B[38;5;124mf\u001B[39m\u001B[38;5;124m\"\u001B[39m\u001B[38;5;124mparameter of \u001B[39m\u001B[38;5;132;01m{\u001B[39;00mfunc\u001B[38;5;241m.\u001B[39m\u001B[38;5;18m__qualname__\u001B[39m\u001B[38;5;132;01m}\u001B[39;00m\u001B[38;5;124m must be\u001B[39m\u001B[38;5;124m\"\u001B[39m,\n\u001B[0;32m    223\u001B[0m         \u001B[38;5;28mstr\u001B[39m(e),\n\u001B[0;32m    224\u001B[0m     )\n",
      "File \u001B[1;32mD:\\projects\\DSP\\Security_voice_code\\Security_Voice_Code\\venv\\Lib\\site-packages\\sklearn\\metrics\\_classification.py:220\u001B[0m, in \u001B[0;36maccuracy_score\u001B[1;34m(y_true, y_pred, normalize, sample_weight)\u001B[0m\n\u001B[0;32m    154\u001B[0m \u001B[38;5;250m\u001B[39m\u001B[38;5;124;03m\"\"\"Accuracy classification score.\u001B[39;00m\n\u001B[0;32m    155\u001B[0m \n\u001B[0;32m    156\u001B[0m \u001B[38;5;124;03mIn multilabel classification, this function computes subset accuracy:\u001B[39;00m\n\u001B[1;32m   (...)\u001B[0m\n\u001B[0;32m    216\u001B[0m \u001B[38;5;124;03m0.5\u001B[39;00m\n\u001B[0;32m    217\u001B[0m \u001B[38;5;124;03m\"\"\"\u001B[39;00m\n\u001B[0;32m    219\u001B[0m \u001B[38;5;66;03m# Compute accuracy for each possible representation\u001B[39;00m\n\u001B[1;32m--> 220\u001B[0m y_type, y_true, y_pred \u001B[38;5;241m=\u001B[39m \u001B[43m_check_targets\u001B[49m\u001B[43m(\u001B[49m\u001B[43my_true\u001B[49m\u001B[43m,\u001B[49m\u001B[43m \u001B[49m\u001B[43my_pred\u001B[49m\u001B[43m)\u001B[49m\n\u001B[0;32m    221\u001B[0m check_consistent_length(y_true, y_pred, sample_weight)\n\u001B[0;32m    222\u001B[0m \u001B[38;5;28;01mif\u001B[39;00m y_type\u001B[38;5;241m.\u001B[39mstartswith(\u001B[38;5;124m\"\u001B[39m\u001B[38;5;124mmultilabel\u001B[39m\u001B[38;5;124m\"\u001B[39m):\n",
      "File \u001B[1;32mD:\\projects\\DSP\\Security_voice_code\\Security_Voice_Code\\venv\\Lib\\site-packages\\sklearn\\metrics\\_classification.py:84\u001B[0m, in \u001B[0;36m_check_targets\u001B[1;34m(y_true, y_pred)\u001B[0m\n\u001B[0;32m     57\u001B[0m \u001B[38;5;28;01mdef\u001B[39;00m \u001B[38;5;21m_check_targets\u001B[39m(y_true, y_pred):\n\u001B[0;32m     58\u001B[0m \u001B[38;5;250m    \u001B[39m\u001B[38;5;124;03m\"\"\"Check that y_true and y_pred belong to the same classification task.\u001B[39;00m\n\u001B[0;32m     59\u001B[0m \n\u001B[0;32m     60\u001B[0m \u001B[38;5;124;03m    This converts multiclass or binary types to a common shape, and raises a\u001B[39;00m\n\u001B[1;32m   (...)\u001B[0m\n\u001B[0;32m     82\u001B[0m \u001B[38;5;124;03m    y_pred : array or indicator matrix\u001B[39;00m\n\u001B[0;32m     83\u001B[0m \u001B[38;5;124;03m    \"\"\"\u001B[39;00m\n\u001B[1;32m---> 84\u001B[0m     \u001B[43mcheck_consistent_length\u001B[49m\u001B[43m(\u001B[49m\u001B[43my_true\u001B[49m\u001B[43m,\u001B[49m\u001B[43m \u001B[49m\u001B[43my_pred\u001B[49m\u001B[43m)\u001B[49m\n\u001B[0;32m     85\u001B[0m     type_true \u001B[38;5;241m=\u001B[39m type_of_target(y_true, input_name\u001B[38;5;241m=\u001B[39m\u001B[38;5;124m\"\u001B[39m\u001B[38;5;124my_true\u001B[39m\u001B[38;5;124m\"\u001B[39m)\n\u001B[0;32m     86\u001B[0m     type_pred \u001B[38;5;241m=\u001B[39m type_of_target(y_pred, input_name\u001B[38;5;241m=\u001B[39m\u001B[38;5;124m\"\u001B[39m\u001B[38;5;124my_pred\u001B[39m\u001B[38;5;124m\"\u001B[39m)\n",
      "File \u001B[1;32mD:\\projects\\DSP\\Security_voice_code\\Security_Voice_Code\\venv\\Lib\\site-packages\\sklearn\\utils\\validation.py:407\u001B[0m, in \u001B[0;36mcheck_consistent_length\u001B[1;34m(*arrays)\u001B[0m\n\u001B[0;32m    405\u001B[0m uniques \u001B[38;5;241m=\u001B[39m np\u001B[38;5;241m.\u001B[39munique(lengths)\n\u001B[0;32m    406\u001B[0m \u001B[38;5;28;01mif\u001B[39;00m \u001B[38;5;28mlen\u001B[39m(uniques) \u001B[38;5;241m>\u001B[39m \u001B[38;5;241m1\u001B[39m:\n\u001B[1;32m--> 407\u001B[0m     \u001B[38;5;28;01mraise\u001B[39;00m \u001B[38;5;167;01mValueError\u001B[39;00m(\n\u001B[0;32m    408\u001B[0m         \u001B[38;5;124m\"\u001B[39m\u001B[38;5;124mFound input variables with inconsistent numbers of samples: \u001B[39m\u001B[38;5;132;01m%r\u001B[39;00m\u001B[38;5;124m\"\u001B[39m\n\u001B[0;32m    409\u001B[0m         \u001B[38;5;241m%\u001B[39m [\u001B[38;5;28mint\u001B[39m(l) \u001B[38;5;28;01mfor\u001B[39;00m l \u001B[38;5;129;01min\u001B[39;00m lengths]\n\u001B[0;32m    410\u001B[0m     )\n",
      "\u001B[1;31mValueError\u001B[0m: Found input variables with inconsistent numbers of samples: [50, 2]"
     ]
    }
   ],
   "source": [
    "# Evaluate the performance of the model\n",
    "accuracy = accuracy_score(y_test, predictions)\n",
    "classification_rep = classification_report(y_test, predictions, zero_division=0)\n",
    "# Print the results\n",
    "print(\"Accuracy:\", accuracy)\n",
    "print(\"Classification Report:\\n\", classification_rep)"
   ],
   "metadata": {
    "collapsed": false,
    "ExecuteTime": {
     "end_time": "2024-01-03T18:00:14.311569100Z",
     "start_time": "2024-01-03T18:00:14.226380Z"
    }
   },
   "id": "7f68e2c28a985b48"
  },
  {
   "cell_type": "code",
   "execution_count": null,
   "outputs": [],
   "source": [
    "from sklearn.model_selection import GridSearchCV\n",
    "\n",
    "param_grid = {'C': [0.1, 1, 10, 100], 'gamma': [0.01, 0.1, 1, 10]}\n",
    "grid_search = GridSearchCV(SVC(), param_grid, cv=5)\n",
    "grid_search.fit(X_train, y_train)\n",
    "\n",
    "best_params = grid_search.best_params_\n",
    "best_svm_model = grid_search.best_estimator_"
   ],
   "metadata": {
    "collapsed": false,
    "ExecuteTime": {
     "start_time": "2024-01-03T17:15:41.007207800Z"
    }
   },
   "id": "888a328f89537468"
  },
  {
   "cell_type": "code",
   "execution_count": null,
   "outputs": [],
   "source": [
    "from sklearn import metrics\n",
    "\n",
    "y_pred = best_svm_model.predict(X_test)\n",
    "accuracy = metrics.accuracy_score(y_test, y_pred)\n",
    "precision = metrics.precision_score(y_test, y_pred, average='weighted')\n",
    "recall = metrics.recall_score(y_test, y_pred, average='weighted')\n",
    "f1_score = metrics.f1_score(y_test, y_pred, average='weighted')\n",
    "\n",
    "print(f\"Best Parameters: {best_params}\")\n",
    "print(f\"Accuracy: {accuracy}\")\n",
    "print(f\"Precision: {precision}\")\n",
    "print(f\"Recall: {recall}\")\n",
    "print(f\"F1 Score: {f1_score}\")"
   ],
   "metadata": {
    "collapsed": false,
    "ExecuteTime": {
     "start_time": "2024-01-03T17:15:41.010208300Z"
    }
   },
   "id": "d41da020940dd552"
  },
  {
   "cell_type": "code",
   "execution_count": null,
   "outputs": [],
   "source": [
    "# Initialize the SVM model\n",
    "svm_model_voice = SVC(kernel='linear', C=10, gamma=0.01)\n"
   ],
   "metadata": {
    "collapsed": false,
    "ExecuteTime": {
     "start_time": "2024-01-03T17:15:41.015208500Z"
    }
   },
   "id": "4925569729d17462"
  },
  {
   "cell_type": "code",
   "execution_count": null,
   "outputs": [],
   "source": [
    "# Make predictions on the test set\n",
    "predictions = svm_model_voice.predict(X_test)\n",
    "\n"
   ],
   "metadata": {
    "collapsed": false,
    "ExecuteTime": {
     "start_time": "2024-01-03T17:15:41.016207800Z"
    }
   },
   "id": "42514e57f6defa8"
  },
  {
   "cell_type": "code",
   "execution_count": null,
   "outputs": [],
   "source": [
    "# Evaluate the performance of the model\n",
    "accuracy = accuracy_score(y_test, predictions)\n",
    "classification_rep = classification_report(y_test, predictions)\n",
    "\n",
    "# Print the results\n",
    "print(\"Accuracy:\", accuracy)\n",
    "print(\"Classification Report:\\n\", classification_rep)"
   ],
   "metadata": {
    "collapsed": false,
    "ExecuteTime": {
     "end_time": "2024-01-03T17:15:41.021210800Z",
     "start_time": "2024-01-03T17:15:41.018209800Z"
    }
   },
   "id": "3860f5528d77440b"
  },
  {
   "cell_type": "code",
   "execution_count": null,
   "outputs": [],
   "source": [],
   "metadata": {
    "collapsed": false,
    "ExecuteTime": {
     "start_time": "2024-01-03T17:15:41.020211600Z"
    }
   },
   "id": "d8913274ca7e42cd"
  }
 ],
 "metadata": {
  "kernelspec": {
   "display_name": "Python 3",
   "language": "python",
   "name": "python3"
  },
  "language_info": {
   "codemirror_mode": {
    "name": "ipython",
    "version": 2
   },
   "file_extension": ".py",
   "mimetype": "text/x-python",
   "name": "python",
   "nbconvert_exporter": "python",
   "pygments_lexer": "ipython2",
   "version": "2.7.6"
  }
 },
 "nbformat": 4,
 "nbformat_minor": 5
}
